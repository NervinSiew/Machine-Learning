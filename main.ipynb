{
 "cells": [
  {
   "cell_type": "markdown",
   "metadata": {},
   "source": [
    "# Machine Learning Tutorial"
   ]
  },
  {
   "cell_type": "markdown",
   "metadata": {},
   "source": [
    "## Introduction to Numpy\n"
   ]
  },
  {
   "cell_type": "markdown",
   "metadata": {},
   "source": [
    "#### Numpy is a python module which is the primary tool for scientific computing in Python such as manipulating list and doing calculations"
   ]
  },
  {
   "cell_type": "code",
   "execution_count": 2,
   "metadata": {},
   "outputs": [],
   "source": [
    "import numpy as np"
   ]
  },
  {
   "cell_type": "code",
   "execution_count": 3,
   "metadata": {},
   "outputs": [],
   "source": [
    "# Creating a List\n",
    "data = [15, 16, 18, 19, 22, 24, 29, 30, 34]"
   ]
  },
  {
   "cell_type": "code",
   "execution_count": 4,
   "metadata": {},
   "outputs": [
    {
     "name": "stdout",
     "output_type": "stream",
     "text": [
      "mean: 23.0\n",
      "median: 22.0\n",
      "50th percentile (median): 22.0\n",
      "25th percentile: 18.0\n",
      "75th percentile: 29.0\n",
      "standard deviation: 6.342099196813483\n",
      "variance: 40.22222222222222\n"
     ]
    }
   ],
   "source": [
    "print(\"mean:\", np.mean(data))\n",
    "print(\"median:\", np.median(data))\n",
    "print(\"50th percentile (median):\", np.percentile(data, 50))\n",
    "print(\"25th percentile:\", np.percentile(data, 25))\n",
    "print(\"75th percentile:\", np.percentile(data, 75))\n",
    "print(\"standard deviation:\", np.std(data))\n",
    "print(\"variance:\", np.var(data))"
   ]
  },
  {
   "cell_type": "markdown",
   "metadata": {},
   "source": [
    "# Introduction to Pandas"
   ]
  },
  {
   "cell_type": "markdown",
   "metadata": {},
   "source": [
    "#### Pandas are similar to Numpy but the main difference is that Pandas is able to read and manipulate data from  a csv file, SQL database and etc."
   ]
  },
  {
   "cell_type": "code",
   "execution_count": 5,
   "metadata": {},
   "outputs": [],
   "source": [
    "import pandas as pd"
   ]
  },
  {
   "cell_type": "code",
   "execution_count": 6,
   "metadata": {},
   "outputs": [
    {
     "name": "stdout",
     "output_type": "stream",
     "text": [
      "   Survived  Pclass     Sex  ...  Siblings/Spouses  Parents/Children     Fare\n",
      "0         0       3    male  ...                 1                 0   7.2500\n",
      "1         1       1  female  ...                 1                 0  71.2833\n",
      "2         1       3  female  ...                 0                 0   7.9250\n",
      "3         1       1  female  ...                 1                 0  53.1000\n",
      "4         0       3    male  ...                 0                 0   8.0500\n",
      "\n",
      "[5 rows x 7 columns]\n"
     ]
    }
   ],
   "source": [
    "df = pd.read_csv('https://sololearn.com/uploads/files/titanic.csv')\n",
    "pd.options.display.max_columns = 6\n",
    "print(df.head())\n",
    "#print(df.describe())"
   ]
  },
  {
   "cell_type": "code",
   "execution_count": 7,
   "metadata": {},
   "outputs": [
    {
     "name": "stdout",
     "output_type": "stream",
     "text": [
      "0       7.2500\n",
      "1      71.2833\n",
      "2       7.9250\n",
      "3      53.1000\n",
      "4       8.0500\n",
      "        ...   \n",
      "882    13.0000\n",
      "883    30.0000\n",
      "884    23.4500\n",
      "885    30.0000\n",
      "886     7.7500\n",
      "Name: Fare, Length: 887, dtype: float64\n"
     ]
    }
   ],
   "source": [
    "# Selecting a single column\n",
    "col = df['Fare']\n",
    "print(col)"
   ]
  },
  {
   "cell_type": "code",
   "execution_count": 84,
   "metadata": {},
   "outputs": [
    {
     "name": "stdout",
     "output_type": "stream",
     "text": [
      "    Age     Sex  Survived\n",
      "0  22.0    male         0\n",
      "1  38.0  female         1\n",
      "2  26.0  female         1\n",
      "3  35.0  female         1\n",
      "4  35.0    male         0\n"
     ]
    }
   ],
   "source": [
    "small_df = df[['Age', 'Sex', 'Survived']]\n",
    "print(small_df.head())\n"
   ]
  },
  {
   "cell_type": "code",
   "execution_count": 85,
   "metadata": {},
   "outputs": [],
   "source": [
    "# Creating a New column and assigned it as a boolean expressions\n",
    "df['male']=df['Sex']=='male'\n"
   ]
  },
  {
   "cell_type": "code",
   "execution_count": 86,
   "metadata": {},
   "outputs": [
    {
     "name": "stdout",
     "output_type": "stream",
     "text": [
      "   Survived  Pclass     Sex  ...  Parents/Children     Fare   male\n",
      "0         0       3    male  ...                 0   7.2500   True\n",
      "1         1       1  female  ...                 0  71.2833  False\n",
      "2         1       3  female  ...                 0   7.9250  False\n",
      "3         1       1  female  ...                 0  53.1000  False\n",
      "4         0       3    male  ...                 0   8.0500   True\n",
      "\n",
      "[5 rows x 8 columns]\n"
     ]
    }
   ],
   "source": [
    "print(df.head())"
   ]
  },
  {
   "cell_type": "code",
   "execution_count": 87,
   "metadata": {},
   "outputs": [
    {
     "name": "stdout",
     "output_type": "stream",
     "text": [
      "[  7.25    71.2833   7.925   53.1      8.05     8.4583  51.8625  21.075\n",
      "  11.1333  30.0708  16.7     26.55     8.05    31.275    7.8542  16.\n",
      "  29.125   13.      18.       7.225   26.      13.       8.0292  35.5\n",
      "  21.075   31.3875   7.225  263.       7.8792   7.8958  27.7208 146.5208\n",
      "   7.75    10.5     82.1708  52.       7.2292   8.05    18.      11.2417\n",
      "   9.475   21.      41.5792   7.8792   8.05    15.5      7.75    21.6792\n",
      "  17.8     39.6875   7.8     76.7292  26.      61.9792  35.5     10.5\n",
      "   7.2292  27.75    46.9      7.2292  80.      83.475   27.9     27.7208\n",
      "  15.2458  10.5      8.1583   7.925    8.6625  10.5     46.9     73.5\n",
      "  14.4542  56.4958   7.65     7.8958   8.05    29.      12.475    9.\n",
      "   9.5      7.7875  47.1     10.5     15.85    34.375    8.05   263.\n",
      "   8.05     8.05     7.8542  61.175   20.575    7.25     8.05    34.6542\n",
      "  63.3583  23.      26.       7.8958   7.8958  77.2875   8.6542   7.925\n",
      "   7.8958   7.65     7.775    7.8958  24.15    52.      14.4542   8.05\n",
      "   9.825   14.4583   7.925    7.75    21.     247.5208  31.275   73.5\n",
      "   8.05    30.0708  13.      77.2875  11.2417   7.75     7.1417  22.3583\n",
      "   6.975    7.8958   7.05    14.5     26.      13.      15.0458  26.2833\n",
      "  53.1      9.2167  79.2     15.2458   7.75    15.85     6.75    11.5\n",
      "  36.75     7.7958  34.375   26.      13.      12.525   66.6      8.05\n",
      "  14.5      7.3125  61.3792   7.7333   8.05     8.6625  69.55    16.1\n",
      "  15.75     7.775    8.6625  39.6875  20.525   55.      27.9     25.925\n",
      "  56.4958  33.5     29.125   11.1333   7.925   30.6958   7.8542  25.4667\n",
      "  28.7125  13.       0.      69.55    15.05    31.3875  39.      22.025\n",
      "  50.      15.5     26.55    15.5      7.8958  13.      13.       7.8542\n",
      "  26.      27.7208 146.5208   7.75     8.4042   7.75    13.       9.5\n",
      "  69.55     6.4958   7.225    8.05    10.4625  15.85    18.7875   7.75\n",
      "  31.       7.05    21.       7.25    13.       7.75   113.275    7.925\n",
      "  27.      76.2917  10.5      8.05    13.       8.05     7.8958  90.\n",
      "   9.35    10.5      7.25    13.      25.4667  83.475    7.775   13.5\n",
      "  31.3875  10.5      7.55    26.      26.25    10.5     12.275   14.4542\n",
      "  15.5     10.5      7.125    7.225   90.       7.775   14.5     52.5542\n",
      "  26.       7.25    10.4625  26.55    16.1     20.2125  15.2458  79.2\n",
      "  86.5    512.3292  26.      31.3875  79.65     0.       7.75    10.5\n",
      "  39.6875   7.775  153.4625 135.6333  31.       0.      19.5     29.7\n",
      "   7.75    77.9583   7.75     0.      29.125   20.25     7.75     7.8542\n",
      "   9.5      8.05    26.       8.6625   9.5      7.8958  13.       7.75\n",
      "  78.85    91.0792  12.875    8.85     7.8958  27.7208   7.2292 151.55\n",
      "  30.5    247.5208   7.75    23.25     0.      12.35     8.05   151.55\n",
      " 110.8833 108.9     24.      56.9292  83.1583 262.375   26.       7.8958\n",
      "  26.25     7.8542  26.      14.     164.8667 134.5      7.25     7.8958\n",
      "  12.35    29.      69.55   135.6333   6.2375  13.      20.525   57.9792\n",
      "  23.25    28.5    153.4625  18.     133.65     7.8958  66.6    134.5\n",
      "   8.05    35.5     26.     263.      13.      13.      13.      13.\n",
      "  13.      16.1     15.9      8.6625   9.225   35.       7.2292  17.8\n",
      "   7.225    9.5     55.      13.       7.8792   7.8792  27.9     27.7208\n",
      "  14.4542   7.05    15.5      7.25    75.25     7.2292   7.75    69.3\n",
      "  55.4417   6.4958   8.05   135.6333  21.075   82.1708   7.25   211.5\n",
      "   4.0125   7.775  227.525   15.7417   7.925   52.       7.8958  73.5\n",
      "  46.9     13.       7.7292  12.     120.       7.7958   7.925  113.275\n",
      "  16.7      7.7958   7.8542  26.      10.5     12.65     7.925    8.05\n",
      "   9.825   15.85     8.6625  21.       7.75    18.75     7.775   25.4667\n",
      "   7.8958   6.8583  90.       0.       7.925    8.05    32.5     13.\n",
      "  13.      24.15     7.7333   7.875   14.4     20.2125   7.25    26.\n",
      "  26.       7.75     8.05    26.55    16.1     26.       7.125   55.9\n",
      " 120.      34.375   18.75   263.      10.5     26.25     9.5      7.775\n",
      "  13.       8.1125  81.8583  19.5     26.55    19.2583  30.5     27.75\n",
      "  19.9667  27.75    89.1042   8.05     7.8958  26.55    51.8625  10.5\n",
      "   7.75    26.55     8.05    38.5     13.       8.05     7.05     0.\n",
      "  26.55     7.725   19.2583   7.25     8.6625  27.75    13.7917   9.8375\n",
      "  52.      21.       7.0458   7.5208  12.2875  46.9      0.       8.05\n",
      "   9.5875  91.0792  25.4667  90.      29.7      8.05    15.9     19.9667\n",
      "   7.25    30.5     49.5042   8.05    14.4583  78.2667  15.1    151.55\n",
      "   7.7958   8.6625   7.75     7.6292   9.5875  86.5    108.9     26.\n",
      "  26.55    22.525   56.4958   7.75     8.05    26.2875  59.4      7.4958\n",
      "  34.0208  10.5     24.15    26.       7.8958  93.5      7.8958   7.225\n",
      "  57.9792   7.2292   7.75    10.5    221.7792   7.925   11.5     26.\n",
      "   7.2292   7.2292  22.3583   8.6625  26.25    26.55   106.425   14.5\n",
      "  49.5     71.      31.275   31.275   26.     106.425   26.      26.\n",
      "  13.8625  20.525   36.75   110.8833  26.       7.8292   7.225    7.775\n",
      "  26.55    39.6    227.525   79.65    17.4      7.75     7.8958  13.5\n",
      "   8.05     8.05    24.15     7.8958  21.075    7.2292   7.8542  10.5\n",
      "  51.4792  26.3875   7.75     8.05    14.5     13.      55.9     14.4583\n",
      "   7.925   30.     110.8833  26.      40.125    8.7125  79.65    15.\n",
      "  79.2      8.05     8.05     7.125   78.2667   7.25     7.75    26.\n",
      "  24.15    33.       0.       7.225   56.9292  27.       7.8958  42.4\n",
      "   8.05    26.55    15.55     7.8958  30.5     41.5792 153.4625  31.275\n",
      "   7.05    15.5      7.75     8.05    65.      14.4     16.1     39.\n",
      "  10.5     14.4542  52.5542  15.7417   7.8542  16.1     32.3208  12.35\n",
      "  77.9583   7.8958   7.7333  30.       7.0542  30.5      0.      27.9\n",
      "  13.       7.925   26.25    39.6875  16.1      7.8542  69.3     27.9\n",
      "  56.4958  19.2583  76.7292   7.8958  35.5      7.55     7.55     7.8958\n",
      "  23.       8.4333   7.8292   6.75    73.5      7.8958  15.5     13.\n",
      " 113.275  133.65     7.225   25.5875   7.4958   7.925   73.5     13.\n",
      "   7.775    8.05    52.      39.      52.      10.5     13.       0.\n",
      "   7.775    8.05     9.8417  46.9    512.3292   8.1375  76.7292   9.225\n",
      "  46.9     39.      41.5792  39.6875  10.1708   7.7958 211.3375  57.\n",
      "  13.4167  56.4958   7.225   26.55    13.5      8.05     7.7333 110.8833\n",
      "   7.65   227.525   26.2875  14.4542   7.7417   7.8542  26.      13.5\n",
      "  26.2875 151.55    15.2458  49.5042  26.55    52.       9.4833  13.\n",
      "   7.65   227.525   10.5      7.775   33.       7.0542  13.      13.\n",
      "  53.1      8.6625  21.       7.7375  26.       7.925  211.3375  18.7875\n",
      "   0.      13.      13.      16.1     34.375  512.3292   7.8958   7.8958\n",
      "  30.      78.85   262.375   16.1      7.925   71.      20.25    13.\n",
      "  53.1      7.75    23.      12.475    9.5      7.8958  65.      14.5\n",
      "   7.7958  11.5      8.05    86.5     14.5      7.125    7.2292 120.\n",
      "   7.775   77.9583  39.6      7.75    24.15     8.3625   9.5      7.8542\n",
      "  10.5      7.225   23.       7.75     7.75    12.475    7.7375 211.3375\n",
      "   7.2292  57.      30.      23.45     7.05     7.25     7.4958  29.125\n",
      "  20.575   79.2      7.75    26.      69.55    30.6958   7.8958  13.\n",
      "  25.9292   8.6833   7.2292  24.15    13.      26.25   120.       8.5167\n",
      "   6.975    7.775    0.       7.775   13.      53.1      7.8875  24.15\n",
      "  10.5     31.275    8.05     0.       7.925   37.0042   6.45    27.9\n",
      "  93.5      8.6625   0.      12.475   39.6875   6.95    56.4958  37.0042\n",
      "   7.75    80.      14.4542  18.75     7.2292   7.8542   8.3     83.1583\n",
      "   8.6625   8.05    56.4958  29.7      7.925   10.5     31.       6.4375\n",
      "   8.6625   7.55    69.55     7.8958  33.      89.1042  31.275    7.775\n",
      "  15.2458  39.4     26.       9.35   164.8667  26.55    19.2583   7.2292\n",
      "  14.1083  11.5     25.9292  69.55    13.      13.      13.8583  50.4958\n",
      "   9.5     11.1333   7.8958  52.5542   5.       9.      24.       7.225\n",
      "   9.8458   7.8958   7.8958  83.1583  26.       7.8958  10.5167  10.5\n",
      "   7.05    29.125   13.      30.      23.45    30.       7.75  ]\n"
     ]
    }
   ],
   "source": [
    "print(df['Fare'].values)"
   ]
  },
  {
   "cell_type": "markdown",
   "metadata": {},
   "source": [
    "### Converting from a Pandas DataFrame to a Numpy Array"
   ]
  },
  {
   "cell_type": "code",
   "execution_count": 88,
   "metadata": {},
   "outputs": [
    {
     "name": "stdout",
     "output_type": "stream",
     "text": [
      "[[ 3.      7.25   22.    ]\n",
      " [ 1.     71.2833 38.    ]\n",
      " [ 3.      7.925  26.    ]\n",
      " ...\n",
      " [ 3.     23.45    7.    ]\n",
      " [ 1.     30.     26.    ]\n",
      " [ 3.      7.75   32.    ]]\n"
     ]
    }
   ],
   "source": [
    "# This is a 2 dimensional numpy array\n",
    "print(df[['Pclass','Fare','Age']].values)"
   ]
  },
  {
   "cell_type": "code",
   "execution_count": 89,
   "metadata": {},
   "outputs": [
    {
     "name": "stdout",
     "output_type": "stream",
     "text": [
      "(887, 3)\n"
     ]
    }
   ],
   "source": [
    "# Numpy shape Attribute\n",
    "array= df[['Pclass','Fare','Age']]\n",
    "print(array.shape)\n",
    "# Output: (887,3)\n",
    "# This means there is 887 rows and 3 columns"
   ]
  },
  {
   "cell_type": "code",
   "execution_count": 90,
   "metadata": {},
   "outputs": [
    {
     "name": "stdout",
     "output_type": "stream",
     "text": [
      "[22.   38.   26.   35.   35.   27.   54.    2.   27.   14.    4.   58.\n",
      " 20.   39.   14.   55.    2.   23.   31.   22.   35.   34.   15.   28.\n",
      "  8.   38.   26.   19.   24.   23.   40.   48.   18.   66.   28.   42.\n",
      " 18.   21.   18.   14.   40.   27.    3.   19.   30.   20.   27.   16.\n",
      " 18.    7.   21.   49.   29.   65.   46.   21.   28.5   5.   11.   22.\n",
      " 38.   45.    4.   64.    7.   29.   19.   17.   26.   32.   16.   21.\n",
      " 26.   32.   25.   23.   28.    0.83 30.   22.   29.   31.   28.   17.\n",
      " 33.   16.   20.   23.   24.   29.   20.   46.   26.   59.   22.   71.\n",
      " 23.   34.   34.   28.   29.   21.   33.   37.   28.   21.   29.   38.\n",
      " 28.   47.   14.5  22.   20.   17.   21.   70.5  29.   24.    2.   21.\n",
      " 19.   32.5  32.5  54.   12.   19.   24.    2.   45.   33.   20.   47.\n",
      " 29.   25.   23.   19.   37.   16.   24.   40.   22.   24.   19.   18.\n",
      " 19.   27.    9.   36.5  42.   51.   22.   55.5  40.5  27.   51.   16.\n",
      " 30.   37.    5.   44.   40.   26.   17.    1.    9.   48.   45.   60.\n",
      " 28.   61.    4.    1.   21.   56.   18.    5.   50.   30.   36.    8.\n",
      " 39.    9.    1.    4.   39.   26.   45.   40.   36.   32.   19.   19.\n",
      "  3.   44.   58.   28.   42.   21.   24.   28.   17.   34.   45.5  18.\n",
      "  2.   32.   26.   16.   40.   24.   35.   22.   30.   22.   31.   27.\n",
      " 42.   32.   30.   16.   27.   51.   22.   38.   22.   19.   20.5  18.\n",
      " 12.   35.   29.   59.    5.   24.   21.   44.    8.   19.   33.   19.\n",
      " 18.   29.   22.   30.   44.   25.   24.   37.   54.   18.   29.   62.\n",
      " 30.   41.   29.   38.   30.   35.   50.    3.   52.   40.   21.   36.\n",
      " 16.   25.   58.   35.   28.   25.   41.   37.   33.   63.   45.   21.\n",
      "  7.   35.   65.   28.   16.   19.   57.   33.   30.   22.   42.   22.\n",
      " 26.   19.   36.   24.   24.   30.   23.5   2.   47.   50.   20.   24.\n",
      " 19.   46.   28.    0.92 42.   17.   30.   30.   24.   18.   26.   28.\n",
      " 43.   26.   24.   54.   31.   40.   22.   27.   30.   22.   20.   36.\n",
      " 61.   36.   31.   16.   28.   45.5  38.   16.   42.   30.   29.   41.\n",
      " 45.   45.    2.   24.   28.   25.   36.   24.   40.   34.    3.   42.\n",
      " 23.   43.   15.   25.   23.   28.   22.   38.   22.   23.   40.   29.\n",
      " 45.   35.   27.   30.   60.   35.   22.   24.   25.   18.   19.   22.\n",
      "  3.   25.   22.   27.   20.   19.   42.    1.   32.   35.   27.   18.\n",
      "  1.   36.   19.   17.   36.   21.   28.   23.   24.   22.   31.   46.\n",
      " 23.   28.   39.   26.   21.   28.   20.   34.   51.    3.   21.    3.\n",
      " 42.   27.   33.   22.   44.   32.   34.   18.   30.   10.   21.   29.\n",
      " 28.   18.   54.   28.   19.   28.   32.   28.   33.   42.   17.   50.\n",
      " 14.   21.   24.   64.   31.   45.   20.   25.   28.   29.    4.   13.\n",
      " 34.    5.   52.   36.   28.   30.   49.   24.   29.   65.   41.   50.\n",
      " 17.   48.   34.   47.   48.   34.   38.   21.   56.   22.    0.75 39.\n",
      " 38.   33.   23.   22.   40.   34.   29.   22.    2.    9.   37.   50.\n",
      " 63.   25.    8.   35.   58.   30.    9.   19.   21.   55.   71.   21.\n",
      " 26.   54.   55.   25.   24.   17.   21.   21.   37.   16.   18.   33.\n",
      " 37.   28.   26.   29.   66.   36.   54.   24.   47.   34.   30.   36.\n",
      " 32.   30.   22.   35.   44.   18.   40.5  50.   49.   39.   23.    2.\n",
      " 17.   17.   24.   30.    7.   45.   30.   69.   22.   36.    9.   11.\n",
      " 32.   50.   64.   19.   27.   33.    8.   17.   27.   21.   22.   22.\n",
      " 62.   48.   45.   39.   36.   30.   40.   28.   40.   62.   24.   19.\n",
      " 29.   28.   32.   62.   53.   36.   22.   16.   19.   34.   39.   18.\n",
      " 32.   25.   39.   54.   36.   16.   18.   47.   60.   22.   22.   35.\n",
      " 52.   47.   40.   37.   36.   31.   49.   18.   49.   24.   42.   37.\n",
      " 44.   35.   36.   30.   27.   22.   40.   39.   21.   18.   22.   35.\n",
      " 24.   34.   26.    4.   26.   27.   42.   20.   21.   21.   61.   57.\n",
      " 21.   26.   18.   80.   51.   32.   30.    9.   28.   32.   31.   41.\n",
      " 37.   20.   24.    2.   32.    0.75 48.   19.   56.   21.   23.   23.\n",
      " 18.   21.   16.   18.   24.   27.   32.   23.   58.   50.   40.   47.\n",
      " 36.   20.   32.   25.   49.   43.   48.   40.   31.   70.   31.   19.\n",
      " 18.   24.5  18.   43.   36.   28.   27.   20.   14.   60.   25.   14.\n",
      " 19.   18.   15.   31.    4.   37.   25.   60.   52.   44.   19.   49.\n",
      " 42.   18.   35.   18.   25.   26.   39.   45.   42.   22.    4.   24.\n",
      " 41.   48.   29.   52.   19.   38.   27.   33.    6.   17.   34.   50.\n",
      " 27.   20.   30.   28.   25.   25.   29.   11.   41.   23.   23.   28.5\n",
      " 48.   35.   20.   32.   45.   36.   21.   24.   31.   70.   16.   30.\n",
      " 19.   31.    4.    6.   33.   23.   48.    0.67 28.   18.   34.   33.\n",
      " 23.   41.   20.   36.   16.   51.   46.   30.5  28.   32.   24.   48.\n",
      " 57.   29.   54.   18.   20.    5.   22.   43.   13.   17.   29.   35.\n",
      " 25.   25.   18.    8.    1.   46.   20.   16.   21.   43.   25.   39.\n",
      " 49.   31.   30.   30.   34.   31.   11.    0.42 27.   31.   39.   18.\n",
      " 39.   33.   26.   39.   35.    6.   30.5  39.   23.   31.   43.   10.\n",
      " 52.   27.   38.   27.    2.   36.   23.    1.   19.   62.   15.    0.83\n",
      " 30.   23.   18.   39.   21.   20.   32.   29.   20.   16.   30.   34.5\n",
      " 17.   42.   18.   35.   28.   40.    4.   74.    9.   16.   44.   18.\n",
      " 45.   51.   24.   30.   41.   21.   48.   14.   24.   42.   27.   31.\n",
      " 23.    4.   26.   47.   33.   47.   28.   15.   20.   19.   23.   56.\n",
      " 25.   33.   22.   28.   25.   39.   27.   19.    7.   26.   32.  ]\n"
     ]
    }
   ],
   "source": [
    "arr=df[['Pclass','Fare','Age']].values\n",
    "print(arr[:,2])\n",
    "# Selecting a single column\n",
    "# In this case, we are selecting Column 2 and displaying the all values in it"
   ]
  },
  {
   "cell_type": "markdown",
   "metadata": {},
   "source": [
    "## Masking"
   ]
  },
  {
   "cell_type": "markdown",
   "metadata": {},
   "source": [
    "### Masking is a boolean array that tells us which values from the array we interested in"
   ]
  },
  {
   "cell_type": "markdown",
   "metadata": {},
   "source": [
    "### It is to select all rows that meet a certain criteria"
   ]
  },
  {
   "cell_type": "markdown",
   "metadata": {},
   "source": [
    "### The mask() method replaces the values of the rows where the condition evaluates to True."
   ]
  },
  {
   "cell_type": "code",
   "execution_count": 91,
   "metadata": {},
   "outputs": [
    {
     "name": "stdout",
     "output_type": "stream",
     "text": [
      "[False False False False False False False  True False  True  True False\n",
      " False False  True False  True False False False False False  True False\n",
      "  True False False False False False False False False False False False\n",
      " False False False  True False False  True False False False False  True\n",
      " False  True False False False False False False False  True  True False\n",
      " False False  True False  True False False  True False False  True False\n",
      " False False False False False  True False False False False False  True\n",
      " False  True False False False False False False False False False False\n",
      " False False False False False False False False False False False False\n",
      " False False  True False False  True False False False False  True False\n",
      " False False False False  True False False  True False False False False\n",
      " False False False False False  True False False False False False False\n",
      " False False  True False False False False False False False False  True\n",
      " False False  True False False False  True  True  True False False False\n",
      " False False  True  True False False False  True False False False  True\n",
      " False  True  True  True False False False False False False False False\n",
      "  True False False False False False False False  True False False False\n",
      "  True False False  True False False False False False False False False\n",
      " False False False  True False False False False False False False False\n",
      "  True False False False  True False False False  True False False False\n",
      " False False False False False False False False False False False False\n",
      " False False False False False False False  True False False False False\n",
      "  True False False False False False False False False False False False\n",
      "  True False False False  True False False False False False False False\n",
      " False False False False False False False  True False False False False\n",
      " False False False  True False  True False False False False False False\n",
      " False False False False False False False False False False False False\n",
      " False False False  True False False False  True False False False False\n",
      " False False  True False False False False False False False  True False\n",
      " False False  True False False False False False False False False False\n",
      " False False False False False False False False False False False False\n",
      "  True False False False False False False  True False False False False\n",
      "  True False False  True False False False False False False False False\n",
      " False False False False False False False False False  True False  True\n",
      " False False False False False False False False False  True False False\n",
      " False False False False False False False False False False  True False\n",
      "  True False False False False False False False False False  True  True\n",
      " False  True False False False False False False False False False False\n",
      "  True False False False False False False False False False  True False\n",
      " False False False False False False False False  True  True False False\n",
      " False False  True False False False  True False False False False False\n",
      " False False False False False  True False False False  True False False\n",
      " False False False False False False False False False False False False\n",
      " False False False False False False False False False False False  True\n",
      "  True  True False False  True False False False False False  True  True\n",
      " False False False False False False  True  True False False False False\n",
      " False False False False False False False False False False False False\n",
      " False False False False False False False  True False False False False\n",
      " False False False False False  True False False False False False False\n",
      " False False False False False False False False False False False False\n",
      " False False False False False False False False False False False False\n",
      " False False False  True False False False False False False False False\n",
      " False False False False False False False  True False False False False\n",
      " False False False  True False  True False False False False False False\n",
      " False False  True False False False False False False False False False\n",
      " False False False False False False False False False False False False\n",
      " False False False False False False False False  True False False  True\n",
      " False False  True False  True False False False False False False False\n",
      " False False False False False False False False False False  True False\n",
      " False False False False False False False False  True  True False False\n",
      " False False False False False False False  True False False False False\n",
      " False False False False False False False False False False  True False\n",
      " False False  True  True False False False  True False False False False\n",
      " False False False False  True False False False False False False False\n",
      " False False False False False  True False False  True  True False False\n",
      " False False False  True  True False False  True False False False False\n",
      " False False False False False False  True  True False False False False\n",
      " False False False False False  True False False False False False  True\n",
      " False False False False  True False False  True False False  True  True\n",
      " False False False False False False False False False  True False False\n",
      "  True False False False False False  True False  True  True False False\n",
      " False False False False False False False  True False False False False\n",
      " False  True False False False False False  True False False False False\n",
      " False False False False False False False False  True False False]\n"
     ]
    }
   ],
   "source": [
    "# Creating a mask\n",
    "# Either TRUE or FALSE\n",
    "mask = arr[:,2]<18\n",
    "print(mask)\n",
    "# FALSE = Adults\n",
    "# TRUE = Children"
   ]
  },
  {
   "cell_type": "code",
   "execution_count": 92,
   "metadata": {},
   "outputs": [
    {
     "data": {
      "text/plain": [
       "array([[  3.    ,  21.075 ,   2.    ],\n",
       "       [  2.    ,  30.0708,  14.    ],\n",
       "       [  3.    ,  16.7   ,   4.    ],\n",
       "       [  3.    ,   7.8542,  14.    ],\n",
       "       [  3.    ,  29.125 ,   2.    ],\n",
       "       [  3.    ,   8.0292,  15.    ],\n",
       "       [  3.    ,  21.075 ,   8.    ],\n",
       "       [  3.    ,  11.2417,  14.    ],\n",
       "       [  2.    ,  41.5792,   3.    ],\n",
       "       [  3.    ,  21.6792,  16.    ],\n",
       "       [  3.    ,  39.6875,   7.    ],\n",
       "       [  2.    ,  27.75  ,   5.    ],\n",
       "       [  3.    ,  46.9   ,  11.    ],\n",
       "       [  3.    ,  27.9   ,   4.    ],\n",
       "       [  3.    ,  15.2458,   7.    ],\n",
       "       [  3.    ,   7.925 ,  17.    ],\n",
       "       [  3.    ,  46.9   ,  16.    ],\n",
       "       [  2.    ,  29.    ,   0.83  ],\n",
       "       [  2.    ,  10.5   ,  17.    ],\n",
       "       [  3.    ,  34.375 ,  16.    ],\n",
       "       [  3.    ,  14.4542,  14.5   ],\n",
       "       [  3.    ,  14.4583,  17.    ],\n",
       "       [  3.    ,  31.275 ,   2.    ],\n",
       "       [  3.    ,  11.2417,  12.    ],\n",
       "       [  3.    ,  22.3583,   2.    ],\n",
       "       [  3.    ,   9.2167,  16.    ],\n",
       "       [  3.    ,  34.375 ,   9.    ],\n",
       "       [  3.    ,   7.7333,  16.    ],\n",
       "       [  3.    ,  69.55  ,   5.    ],\n",
       "       [  3.    ,   8.6625,  17.    ],\n",
       "       [  3.    ,  39.6875,   1.    ],\n",
       "       [  3.    ,  20.525 ,   9.    ],\n",
       "       [  3.    ,  29.125 ,   4.    ],\n",
       "       [  3.    ,  11.1333,   1.    ],\n",
       "       [  3.    ,  25.4667,   5.    ],\n",
       "       [  3.    ,  69.55  ,   8.    ],\n",
       "       [  3.    ,  31.3875,   9.    ],\n",
       "       [  2.    ,  39.    ,   1.    ],\n",
       "       [  3.    ,  22.025 ,   4.    ],\n",
       "       [  2.    ,  26.    ,   3.    ],\n",
       "       [  3.    ,  69.55  ,  17.    ],\n",
       "       [  3.    ,  10.4625,   2.    ],\n",
       "       [  3.    ,   7.75  ,  16.    ],\n",
       "       [  3.    ,   8.05  ,  16.    ],\n",
       "       [  3.    ,  25.4667,  12.    ],\n",
       "       [  3.    ,  31.3875,   5.    ],\n",
       "       [  2.    ,  26.25  ,   8.    ],\n",
       "       [  3.    ,  31.3875,   3.    ],\n",
       "       [  3.    ,  39.6875,  16.    ],\n",
       "       [  3.    ,  29.125 ,   7.    ],\n",
       "       [  3.    ,   9.5   ,  16.    ],\n",
       "       [  1.    , 151.55  ,   2.    ],\n",
       "       [  1.    , 151.55  ,   0.92  ],\n",
       "       [  1.    , 108.9   ,  17.    ],\n",
       "       [  1.    ,  57.9792,  16.    ],\n",
       "       [  3.    ,  18.    ,  16.    ],\n",
       "       [  2.    ,  26.    ,   2.    ],\n",
       "       [  3.    ,  15.9   ,   3.    ],\n",
       "       [  3.    ,   7.2292,  15.    ],\n",
       "       [  3.    ,  21.075 ,   3.    ],\n",
       "       [  3.    ,  15.7417,   1.    ],\n",
       "       [  3.    ,  46.9   ,   1.    ],\n",
       "       [  2.    ,  12.    ,  17.    ],\n",
       "       [  2.    ,  18.75  ,   3.    ],\n",
       "       [  3.    ,  25.4667,   3.    ],\n",
       "       [  3.    ,  24.15  ,  10.    ],\n",
       "       [  3.    ,   7.125 ,  17.    ],\n",
       "       [  1.    , 120.    ,  14.    ],\n",
       "       [  1.    ,  81.8583,   4.    ],\n",
       "       [  2.    ,  19.5   ,  13.    ],\n",
       "       [  3.    ,  19.2583,   5.    ],\n",
       "       [  3.    ,   7.75  ,  17.    ],\n",
       "       [  3.    ,  19.2583,   0.75  ],\n",
       "       [  3.    ,  12.2875,   2.    ],\n",
       "       [  3.    ,  46.9   ,   9.    ],\n",
       "       [  3.    ,  25.4667,   8.    ],\n",
       "       [  3.    ,  15.9   ,   9.    ],\n",
       "       [  3.    ,   8.6625,  17.    ],\n",
       "       [  1.    ,  86.5   ,  16.    ],\n",
       "       [  2.    ,  26.    ,   2.    ],\n",
       "       [  3.    ,   7.2292,  17.    ],\n",
       "       [  3.    ,   7.2292,  17.    ],\n",
       "       [  2.    ,  26.25  ,   7.    ],\n",
       "       [  3.    ,  31.275 ,   9.    ],\n",
       "       [  3.    ,  31.275 ,  11.    ],\n",
       "       [  2.    ,  36.75  ,   8.    ],\n",
       "       [  1.    , 110.8833,  17.    ],\n",
       "       [  3.    ,   8.05  ,  16.    ],\n",
       "       [  3.    ,   8.7125,  16.    ],\n",
       "       [  2.    ,  39.    ,   4.    ],\n",
       "       [  3.    ,  27.9   ,   9.    ],\n",
       "       [  3.    ,  27.9   ,   2.    ],\n",
       "       [  3.    ,  19.2583,   0.75  ],\n",
       "       [  3.    ,   7.8292,  16.    ],\n",
       "       [  3.    ,  46.9   ,  14.    ],\n",
       "       [  3.    ,  39.6875,  14.    ],\n",
       "       [  1.    , 211.3375,  15.    ],\n",
       "       [  3.    ,  13.4167,   4.    ],\n",
       "       [  3.    ,  15.2458,   4.    ],\n",
       "       [  2.    ,  33.    ,   6.    ],\n",
       "       [  3.    ,   7.0542,  17.    ],\n",
       "       [  3.    ,  18.7875,  11.    ],\n",
       "       [  3.    ,  20.25  ,  16.    ],\n",
       "       [  2.    ,  23.    ,   4.    ],\n",
       "       [  3.    ,  12.475 ,   6.    ],\n",
       "       [  2.    ,  14.5   ,   0.67  ],\n",
       "       [  3.    ,   7.775 ,  16.    ],\n",
       "       [  3.    ,  12.475 ,   5.    ],\n",
       "       [  3.    ,   7.2292,  13.    ],\n",
       "       [  1.    ,  57.    ,  17.    ],\n",
       "       [  3.    ,  29.125 ,   8.    ],\n",
       "       [  3.    ,  20.575 ,   1.    ],\n",
       "       [  2.    ,  26.    ,  16.    ],\n",
       "       [  1.    , 120.    ,  11.    ],\n",
       "       [  3.    ,   8.5167,   0.42  ],\n",
       "       [  3.    ,  31.275 ,   6.    ],\n",
       "       [  3.    ,  27.9   ,  10.    ],\n",
       "       [  3.    ,  39.6875,   2.    ],\n",
       "       [  2.    ,  37.0042,   1.    ],\n",
       "       [  3.    ,  14.4542,  15.    ],\n",
       "       [  2.    ,  18.75  ,   0.83  ],\n",
       "       [  2.    ,  10.5   ,  16.    ],\n",
       "       [  3.    ,   8.6625,  17.    ],\n",
       "       [  3.    ,  31.275 ,   4.    ],\n",
       "       [  3.    ,  15.2458,   9.    ],\n",
       "       [  1.    ,  39.4   ,  16.    ],\n",
       "       [  3.    ,  69.55  ,  14.    ],\n",
       "       [  3.    ,  11.1333,   4.    ],\n",
       "       [  3.    ,   7.225 ,  15.    ],\n",
       "       [  3.    ,  23.45  ,   7.    ]])"
      ]
     },
     "execution_count": 92,
     "metadata": {},
     "output_type": "execute_result"
    }
   ],
   "source": [
    "arr[mask]\n",
    "# Displaying values that are children"
   ]
  },
  {
   "cell_type": "code",
   "execution_count": 93,
   "metadata": {},
   "outputs": [
    {
     "data": {
      "text/plain": [
       "array([[  3.    ,  21.075 ,   2.    ],\n",
       "       [  2.    ,  30.0708,  14.    ],\n",
       "       [  3.    ,  16.7   ,   4.    ],\n",
       "       [  3.    ,   7.8542,  14.    ],\n",
       "       [  3.    ,  29.125 ,   2.    ],\n",
       "       [  3.    ,   8.0292,  15.    ],\n",
       "       [  3.    ,  21.075 ,   8.    ],\n",
       "       [  3.    ,  11.2417,  14.    ],\n",
       "       [  2.    ,  41.5792,   3.    ],\n",
       "       [  3.    ,  21.6792,  16.    ],\n",
       "       [  3.    ,  39.6875,   7.    ],\n",
       "       [  2.    ,  27.75  ,   5.    ],\n",
       "       [  3.    ,  46.9   ,  11.    ],\n",
       "       [  3.    ,  27.9   ,   4.    ],\n",
       "       [  3.    ,  15.2458,   7.    ],\n",
       "       [  3.    ,   7.925 ,  17.    ],\n",
       "       [  3.    ,  46.9   ,  16.    ],\n",
       "       [  2.    ,  29.    ,   0.83  ],\n",
       "       [  2.    ,  10.5   ,  17.    ],\n",
       "       [  3.    ,  34.375 ,  16.    ],\n",
       "       [  3.    ,  14.4542,  14.5   ],\n",
       "       [  3.    ,  14.4583,  17.    ],\n",
       "       [  3.    ,  31.275 ,   2.    ],\n",
       "       [  3.    ,  11.2417,  12.    ],\n",
       "       [  3.    ,  22.3583,   2.    ],\n",
       "       [  3.    ,   9.2167,  16.    ],\n",
       "       [  3.    ,  34.375 ,   9.    ],\n",
       "       [  3.    ,   7.7333,  16.    ],\n",
       "       [  3.    ,  69.55  ,   5.    ],\n",
       "       [  3.    ,   8.6625,  17.    ],\n",
       "       [  3.    ,  39.6875,   1.    ],\n",
       "       [  3.    ,  20.525 ,   9.    ],\n",
       "       [  3.    ,  29.125 ,   4.    ],\n",
       "       [  3.    ,  11.1333,   1.    ],\n",
       "       [  3.    ,  25.4667,   5.    ],\n",
       "       [  3.    ,  69.55  ,   8.    ],\n",
       "       [  3.    ,  31.3875,   9.    ],\n",
       "       [  2.    ,  39.    ,   1.    ],\n",
       "       [  3.    ,  22.025 ,   4.    ],\n",
       "       [  2.    ,  26.    ,   3.    ],\n",
       "       [  3.    ,  69.55  ,  17.    ],\n",
       "       [  3.    ,  10.4625,   2.    ],\n",
       "       [  3.    ,   7.75  ,  16.    ],\n",
       "       [  3.    ,   8.05  ,  16.    ],\n",
       "       [  3.    ,  25.4667,  12.    ],\n",
       "       [  3.    ,  31.3875,   5.    ],\n",
       "       [  2.    ,  26.25  ,   8.    ],\n",
       "       [  3.    ,  31.3875,   3.    ],\n",
       "       [  3.    ,  39.6875,  16.    ],\n",
       "       [  3.    ,  29.125 ,   7.    ],\n",
       "       [  3.    ,   9.5   ,  16.    ],\n",
       "       [  1.    , 151.55  ,   2.    ],\n",
       "       [  1.    , 151.55  ,   0.92  ],\n",
       "       [  1.    , 108.9   ,  17.    ],\n",
       "       [  1.    ,  57.9792,  16.    ],\n",
       "       [  3.    ,  18.    ,  16.    ],\n",
       "       [  2.    ,  26.    ,   2.    ],\n",
       "       [  3.    ,  15.9   ,   3.    ],\n",
       "       [  3.    ,   7.2292,  15.    ],\n",
       "       [  3.    ,  21.075 ,   3.    ],\n",
       "       [  3.    ,  15.7417,   1.    ],\n",
       "       [  3.    ,  46.9   ,   1.    ],\n",
       "       [  2.    ,  12.    ,  17.    ],\n",
       "       [  2.    ,  18.75  ,   3.    ],\n",
       "       [  3.    ,  25.4667,   3.    ],\n",
       "       [  3.    ,  24.15  ,  10.    ],\n",
       "       [  3.    ,   7.125 ,  17.    ],\n",
       "       [  1.    , 120.    ,  14.    ],\n",
       "       [  1.    ,  81.8583,   4.    ],\n",
       "       [  2.    ,  19.5   ,  13.    ],\n",
       "       [  3.    ,  19.2583,   5.    ],\n",
       "       [  3.    ,   7.75  ,  17.    ],\n",
       "       [  3.    ,  19.2583,   0.75  ],\n",
       "       [  3.    ,  12.2875,   2.    ],\n",
       "       [  3.    ,  46.9   ,   9.    ],\n",
       "       [  3.    ,  25.4667,   8.    ],\n",
       "       [  3.    ,  15.9   ,   9.    ],\n",
       "       [  3.    ,   8.6625,  17.    ],\n",
       "       [  1.    ,  86.5   ,  16.    ],\n",
       "       [  2.    ,  26.    ,   2.    ],\n",
       "       [  3.    ,   7.2292,  17.    ],\n",
       "       [  3.    ,   7.2292,  17.    ],\n",
       "       [  2.    ,  26.25  ,   7.    ],\n",
       "       [  3.    ,  31.275 ,   9.    ],\n",
       "       [  3.    ,  31.275 ,  11.    ],\n",
       "       [  2.    ,  36.75  ,   8.    ],\n",
       "       [  1.    , 110.8833,  17.    ],\n",
       "       [  3.    ,   8.05  ,  16.    ],\n",
       "       [  3.    ,   8.7125,  16.    ],\n",
       "       [  2.    ,  39.    ,   4.    ],\n",
       "       [  3.    ,  27.9   ,   9.    ],\n",
       "       [  3.    ,  27.9   ,   2.    ],\n",
       "       [  3.    ,  19.2583,   0.75  ],\n",
       "       [  3.    ,   7.8292,  16.    ],\n",
       "       [  3.    ,  46.9   ,  14.    ],\n",
       "       [  3.    ,  39.6875,  14.    ],\n",
       "       [  1.    , 211.3375,  15.    ],\n",
       "       [  3.    ,  13.4167,   4.    ],\n",
       "       [  3.    ,  15.2458,   4.    ],\n",
       "       [  2.    ,  33.    ,   6.    ],\n",
       "       [  3.    ,   7.0542,  17.    ],\n",
       "       [  3.    ,  18.7875,  11.    ],\n",
       "       [  3.    ,  20.25  ,  16.    ],\n",
       "       [  2.    ,  23.    ,   4.    ],\n",
       "       [  3.    ,  12.475 ,   6.    ],\n",
       "       [  2.    ,  14.5   ,   0.67  ],\n",
       "       [  3.    ,   7.775 ,  16.    ],\n",
       "       [  3.    ,  12.475 ,   5.    ],\n",
       "       [  3.    ,   7.2292,  13.    ],\n",
       "       [  1.    ,  57.    ,  17.    ],\n",
       "       [  3.    ,  29.125 ,   8.    ],\n",
       "       [  3.    ,  20.575 ,   1.    ],\n",
       "       [  2.    ,  26.    ,  16.    ],\n",
       "       [  1.    , 120.    ,  11.    ],\n",
       "       [  3.    ,   8.5167,   0.42  ],\n",
       "       [  3.    ,  31.275 ,   6.    ],\n",
       "       [  3.    ,  27.9   ,  10.    ],\n",
       "       [  3.    ,  39.6875,   2.    ],\n",
       "       [  2.    ,  37.0042,   1.    ],\n",
       "       [  3.    ,  14.4542,  15.    ],\n",
       "       [  2.    ,  18.75  ,   0.83  ],\n",
       "       [  2.    ,  10.5   ,  16.    ],\n",
       "       [  3.    ,   8.6625,  17.    ],\n",
       "       [  3.    ,  31.275 ,   4.    ],\n",
       "       [  3.    ,  15.2458,   9.    ],\n",
       "       [  1.    ,  39.4   ,  16.    ],\n",
       "       [  3.    ,  69.55  ,  14.    ],\n",
       "       [  3.    ,  11.1333,   4.    ],\n",
       "       [  3.    ,   7.225 ,  15.    ],\n",
       "       [  3.    ,  23.45  ,   7.    ]])"
      ]
     },
     "execution_count": 93,
     "metadata": {},
     "output_type": "execute_result"
    }
   ],
   "source": [
    "arr[arr[:,2]<18]"
   ]
  },
  {
   "cell_type": "code",
   "execution_count": 94,
   "metadata": {},
   "outputs": [
    {
     "name": "stdout",
     "output_type": "stream",
     "text": [
      "130\n"
     ]
    }
   ],
   "source": [
    "# Adding up all the TRUE boolean expression\n",
    "print(mask.sum())"
   ]
  },
  {
   "cell_type": "markdown",
   "metadata": {},
   "source": [
    "## Plotting Data"
   ]
  },
  {
   "cell_type": "markdown",
   "metadata": {},
   "source": [
    "## Using Matplotlib library to plot our data\n",
    "### Ploting our Data can often help us build intuition about our data\n"
   ]
  },
  {
   "cell_type": "markdown",
   "metadata": {},
   "source": [
    "### Matplot libary is used for create basic graph like line plots, histograms, scatter plots, bar charts, and pie charts"
   ]
  },
  {
   "cell_type": "code",
   "execution_count": 9,
   "metadata": {},
   "outputs": [],
   "source": [
    "import matplotlib.pyplot as plt"
   ]
  },
  {
   "cell_type": "code",
   "execution_count": 10,
   "metadata": {},
   "outputs": [
    {
     "data": {
      "text/plain": [
       "Text(0, 0.5, 'Fare')"
      ]
     },
     "execution_count": 10,
     "metadata": {},
     "output_type": "execute_result"
    },
    {
     "data": {
      "image/png": "[encoded data removed]",
      "text/plain": [
       "<Figure size 432x288 with 1 Axes>"
      ]
     },
     "metadata": {
      "needs_background": "light"
     },
     "output_type": "display_data"
    }
   ],
   "source": [
    "# Plotting a scatter plot\n",
    "plt.scatter(df['Age'], df['Fare'])\n",
    "plt.xlabel('Age')\n",
    "plt.ylabel('Fare')"
   ]
  },
  {
   "cell_type": "code",
   "execution_count": 97,
   "metadata": {},
   "outputs": [],
   "source": [
    "def add(a : int, b : int):\n",
    "    return a + b"
   ]
  },
  {
   "cell_type": "code",
   "execution_count": 98,
   "metadata": {},
   "outputs": [
    {
     "data": {
      "text/plain": [
       "3"
      ]
     },
     "execution_count": 98,
     "metadata": {},
     "output_type": "execute_result"
    }
   ],
   "source": [
    "add(a = 1, b = 2)"
   ]
  },
  {
   "cell_type": "code",
   "execution_count": 99,
   "metadata": {},
   "outputs": [
    {
     "data": {
      "text/plain": [
       "[<matplotlib.lines.Line2D at 0x2713f96dd08>]"
      ]
     },
     "execution_count": 99,
     "metadata": {},
     "output_type": "execute_result"
    },
    {
     "data": {
      "image/png": "[encoded data removed]",
      "text/plain": [
       "<Figure size 432x288 with 1 Axes>"
      ]
     },
     "metadata": {
      "needs_background": "light"
     },
     "output_type": "display_data"
    }
   ],
   "source": [
    "plt.scatter(df['Age'], df['Fare'], c=df['Pclass'])\n",
    "plt.xlabel('Age')\n",
    "plt.ylabel('Fare')\n",
    "#manual ploting\n",
    "plt.plot([0,80], [85,5])"
   ]
  },
  {
   "cell_type": "code",
   "execution_count": 100,
   "metadata": {},
   "outputs": [],
   "source": [
    "df = pd.read_csv('https://sololearn.com/uploads/files/titanic.csv')"
   ]
  },
  {
   "cell_type": "code",
   "execution_count": 101,
   "metadata": {},
   "outputs": [],
   "source": [
    "df['male'] = (df['Sex'] == 'male') * 1\n",
    "X = df[['Pclass', 'male', 'Age', 'Siblings/Spouses', 'Parents/Children', 'Fare']].values"
   ]
  },
  {
   "cell_type": "code",
   "execution_count": 102,
   "metadata": {},
   "outputs": [],
   "source": [
    "Y = df['Survived'].values"
   ]
  },
  {
   "cell_type": "code",
   "execution_count": 103,
   "metadata": {},
   "outputs": [],
   "source": [
    "from sklearn.linear_model import LogisticRegression\n",
    "model = LogisticRegression()\n"
   ]
  },
  {
   "cell_type": "code",
   "execution_count": 104,
   "metadata": {},
   "outputs": [
    {
     "name": "stdout",
     "output_type": "stream",
     "text": [
      "[[ 0.01615949 -0.01549065]] [-0.51037152]\n"
     ]
    }
   ],
   "source": [
    "x = df[['Fare','Age']].values\n",
    "y = df['Survived'].values\n",
    "model.fit(x,y)\n",
    "print(model.coef_, model.intercept_)"
   ]
  },
  {
   "cell_type": "code",
   "execution_count": 105,
   "metadata": {},
   "outputs": [
    {
     "data": {
      "text/plain": [
       "LogisticRegression()"
      ]
     },
     "execution_count": 105,
     "metadata": {},
     "output_type": "execute_result"
    }
   ],
   "source": [
    "X = df[['Pclass', 'male', 'Age', 'Siblings/Spouses', 'Parents/Children', 'Fare']].values\n",
    "y = df['Survived'].values\n",
    "model = LogisticRegression()\n",
    "model.fit(X, y)\n"
   ]
  },
  {
   "cell_type": "code",
   "execution_count": 106,
   "metadata": {},
   "outputs": [
    {
     "name": "stdout",
     "output_type": "stream",
     "text": [
      "[0]\n"
     ]
    }
   ],
   "source": [
    "#model.predict([X[0]])\n",
    "print(model.predict([[3, True, 22.0, 1, 0, 7.25]])) \n",
    "#This means the passenger is in Pclass 3, are male, are 22 years old,\n",
    "# have 1 sibling/spouse aboard, 0 parents/child aboard, and paid $7.25.\n",
    "#  Let’s see what the model predicts for this passenger.\n"
   ]
  },
  {
   "cell_type": "code",
   "execution_count": 107,
   "metadata": {},
   "outputs": [
    {
     "name": "stdout",
     "output_type": "stream",
     "text": [
      "[0 1 1 1 0]\n",
      "[0 1 1 1 0]\n"
     ]
    }
   ],
   "source": [
    "print(model.predict(X[:5]))\n",
    "#predicting the survival rate\n",
    "print(y[:5])\n",
    "#compare with actual data"
   ]
  },
  {
   "cell_type": "code",
   "execution_count": 108,
   "metadata": {},
   "outputs": [],
   "source": [
    "#create an array that has the predicted y values\n",
    "y_pred = model.predict(X)\n"
   ]
  },
  {
   "cell_type": "code",
   "execution_count": 109,
   "metadata": {},
   "outputs": [
    {
     "name": "stdout",
     "output_type": "stream",
     "text": [
      "0.8049605411499436\n"
     ]
    }
   ],
   "source": [
    "#this is to show the accurac \n",
    "print((y== y_pred).sum() / y.shape[0])"
   ]
  },
  {
   "cell_type": "code",
   "execution_count": 110,
   "metadata": {},
   "outputs": [
    {
     "data": {
      "text/plain": [
       "tuple"
      ]
     },
     "execution_count": 110,
     "metadata": {},
     "output_type": "execute_result"
    }
   ],
   "source": [
    "type(df.shape)"
   ]
  },
  {
   "cell_type": "code",
   "execution_count": 111,
   "metadata": {},
   "outputs": [
    {
     "data": {
      "text/plain": [
       "8"
      ]
     },
     "execution_count": 111,
     "metadata": {},
     "output_type": "execute_result"
    }
   ],
   "source": [
    "df.shape[1]"
   ]
  },
  {
   "cell_type": "code",
   "execution_count": 112,
   "metadata": {},
   "outputs": [
    {
     "name": "stdout",
     "output_type": "stream",
     "text": [
      "0.8049605411499436\n"
     ]
    }
   ],
   "source": [
    "print(model.score(X, y))"
   ]
  },
  {
   "cell_type": "markdown",
   "metadata": {},
   "source": [
    "# PREDICT IF THE BREAST MASS IS CANCEROUS"
   ]
  },
  {
   "cell_type": "code",
   "execution_count": 113,
   "metadata": {},
   "outputs": [],
   "source": [
    "from sklearn.datasets import load_breast_cancer\n",
    "cancer_data = load_breast_cancer()"
   ]
  },
  {
   "cell_type": "code",
   "execution_count": 114,
   "metadata": {},
   "outputs": [
    {
     "name": "stdout",
     "output_type": "stream",
     "text": [
      "dict_keys(['data', 'target', 'frame', 'target_names', 'DESCR', 'feature_names', 'filename', 'data_module'])\n"
     ]
    }
   ],
   "source": [
    "print(cancer_data.keys())"
   ]
  },
  {
   "cell_type": "code",
   "execution_count": 115,
   "metadata": {},
   "outputs": [
    {
     "name": "stdout",
     "output_type": "stream",
     "text": [
      ".. _breast_cancer_dataset:\n",
      "\n",
      "Breast cancer wisconsin (diagnostic) dataset\n",
      "--------------------------------------------\n",
      "\n",
      "**Data Set Characteristics:**\n",
      "\n",
      "    :Number of Instances: 569\n",
      "\n",
      "    :Number of Attributes: 30 numeric, predictive attributes and the class\n",
      "\n",
      "    :Attribute Information:\n",
      "        - radius (mean of distances from center to points on the perimeter)\n",
      "        - texture (standard deviation of gray-scale values)\n",
      "        - perimeter\n",
      "        - area\n",
      "        - smoothness (local variation in radius lengths)\n",
      "        - compactness (perimeter^2 / area - 1.0)\n",
      "        - concavity (severity of concave portions of the contour)\n",
      "        - concave points (number of concave portions of the contour)\n",
      "        - symmetry\n",
      "        - fractal dimension (\"coastline approximation\" - 1)\n",
      "\n",
      "        The mean, standard error, and \"worst\" or largest (mean of the three\n",
      "        worst/largest values) of these features were computed for each image,\n",
      "        resulting in 30 features.  For instance, field 0 is Mean Radius, field\n",
      "        10 is Radius SE, field 20 is Worst Radius.\n",
      "\n",
      "        - class:\n",
      "                - WDBC-Malignant\n",
      "                - WDBC-Benign\n",
      "\n",
      "    :Summary Statistics:\n",
      "\n",
      "    ===================================== ====== ======\n",
      "                                           Min    Max\n",
      "    ===================================== ====== ======\n",
      "    radius (mean):                        6.981  28.11\n",
      "    texture (mean):                       9.71   39.28\n",
      "    perimeter (mean):                     43.79  188.5\n",
      "    area (mean):                          143.5  2501.0\n",
      "    smoothness (mean):                    0.053  0.163\n",
      "    compactness (mean):                   0.019  0.345\n",
      "    concavity (mean):                     0.0    0.427\n",
      "    concave points (mean):                0.0    0.201\n",
      "    symmetry (mean):                      0.106  0.304\n",
      "    fractal dimension (mean):             0.05   0.097\n",
      "    radius (standard error):              0.112  2.873\n",
      "    texture (standard error):             0.36   4.885\n",
      "    perimeter (standard error):           0.757  21.98\n",
      "    area (standard error):                6.802  542.2\n",
      "    smoothness (standard error):          0.002  0.031\n",
      "    compactness (standard error):         0.002  0.135\n",
      "    concavity (standard error):           0.0    0.396\n",
      "    concave points (standard error):      0.0    0.053\n",
      "    symmetry (standard error):            0.008  0.079\n",
      "    fractal dimension (standard error):   0.001  0.03\n",
      "    radius (worst):                       7.93   36.04\n",
      "    texture (worst):                      12.02  49.54\n",
      "    perimeter (worst):                    50.41  251.2\n",
      "    area (worst):                         185.2  4254.0\n",
      "    smoothness (worst):                   0.071  0.223\n",
      "    compactness (worst):                  0.027  1.058\n",
      "    concavity (worst):                    0.0    1.252\n",
      "    concave points (worst):               0.0    0.291\n",
      "    symmetry (worst):                     0.156  0.664\n",
      "    fractal dimension (worst):            0.055  0.208\n",
      "    ===================================== ====== ======\n",
      "\n",
      "    :Missing Attribute Values: None\n",
      "\n",
      "    :Class Distribution: 212 - Malignant, 357 - Benign\n",
      "\n",
      "    :Creator:  Dr. William H. Wolberg, W. Nick Street, Olvi L. Mangasarian\n",
      "\n",
      "    :Donor: Nick Street\n",
      "\n",
      "    :Date: November, 1995\n",
      "\n",
      "This is a copy of UCI ML Breast Cancer Wisconsin (Diagnostic) datasets.\n",
      "https://goo.gl/U2Uwz2\n",
      "\n",
      "Features are computed from a digitized image of a fine needle\n",
      "aspirate (FNA) of a breast mass.  They describe\n",
      "characteristics of the cell nuclei present in the image.\n",
      "\n",
      "Separating plane described above was obtained using\n",
      "Multisurface Method-Tree (MSM-T) [K. P. Bennett, \"Decision Tree\n",
      "Construction Via Linear Programming.\" Proceedings of the 4th\n",
      "Midwest Artificial Intelligence and Cognitive Science Society,\n",
      "pp. 97-101, 1992], a classification method which uses linear\n",
      "programming to construct a decision tree.  Relevant features\n",
      "were selected using an exhaustive search in the space of 1-4\n",
      "features and 1-3 separating planes.\n",
      "\n",
      "The actual linear program used to obtain the separating plane\n",
      "in the 3-dimensional space is that described in:\n",
      "[K. P. Bennett and O. L. Mangasarian: \"Robust Linear\n",
      "Programming Discrimination of Two Linearly Inseparable Sets\",\n",
      "Optimization Methods and Software 1, 1992, 23-34].\n",
      "\n",
      "This database is also available through the UW CS ftp server:\n",
      "\n",
      "ftp ftp.cs.wisc.edu\n",
      "cd math-prog/cpo-dataset/machine-learn/WDBC/\n",
      "\n",
      ".. topic:: References\n",
      "\n",
      "   - W.N. Street, W.H. Wolberg and O.L. Mangasarian. Nuclear feature extraction \n",
      "     for breast tumor diagnosis. IS&T/SPIE 1993 International Symposium on \n",
      "     Electronic Imaging: Science and Technology, volume 1905, pages 861-870,\n",
      "     San Jose, CA, 1993.\n",
      "   - O.L. Mangasarian, W.N. Street and W.H. Wolberg. Breast cancer diagnosis and \n",
      "     prognosis via linear programming. Operations Research, 43(4), pages 570-577, \n",
      "     July-August 1995.\n",
      "   - W.H. Wolberg, W.N. Street, and O.L. Mangasarian. Machine learning techniques\n",
      "     to diagnose breast cancer from fine-needle aspirates. Cancer Letters 77 (1994) \n",
      "     163-171.\n"
     ]
    }
   ],
   "source": [
    "print(cancer_data['DESCR'])"
   ]
  },
  {
   "cell_type": "code",
   "execution_count": 116,
   "metadata": {},
   "outputs": [
    {
     "data": {
      "text/plain": [
       "(569, 30)"
      ]
     },
     "execution_count": 116,
     "metadata": {},
     "output_type": "execute_result"
    }
   ],
   "source": [
    "cancer_data['data'].shape"
   ]
  },
  {
   "cell_type": "code",
   "execution_count": 117,
   "metadata": {},
   "outputs": [
    {
     "data": {
      "text/plain": [
       "array(['mean radius', 'mean texture', 'mean perimeter', 'mean area',\n",
       "       'mean smoothness', 'mean compactness', 'mean concavity',\n",
       "       'mean concave points', 'mean symmetry', 'mean fractal dimension',\n",
       "       'radius error', 'texture error', 'perimeter error', 'area error',\n",
       "       'smoothness error', 'compactness error', 'concavity error',\n",
       "       'concave points error', 'symmetry error',\n",
       "       'fractal dimension error', 'worst radius', 'worst texture',\n",
       "       'worst perimeter', 'worst area', 'worst smoothness',\n",
       "       'worst compactness', 'worst concavity', 'worst concave points',\n",
       "       'worst symmetry', 'worst fractal dimension'], dtype='<U23')"
      ]
     },
     "execution_count": 117,
     "metadata": {},
     "output_type": "execute_result"
    }
   ],
   "source": [
    "cancer_data['feature_names']"
   ]
  },
  {
   "cell_type": "code",
   "execution_count": 118,
   "metadata": {},
   "outputs": [
    {
     "name": "stdout",
     "output_type": "stream",
     "text": [
      "   mean radius  mean texture  mean perimeter  ...  worst concave points  \\\n",
      "0        17.99         10.38          122.80  ...                0.2654   \n",
      "1        20.57         17.77          132.90  ...                0.1860   \n",
      "2        19.69         21.25          130.00  ...                0.2430   \n",
      "3        11.42         20.38           77.58  ...                0.2575   \n",
      "4        20.29         14.34          135.10  ...                0.1625   \n",
      "\n",
      "   worst symmetry  worst fractal dimension  \n",
      "0          0.4601                  0.11890  \n",
      "1          0.2750                  0.08902  \n",
      "2          0.3613                  0.08758  \n",
      "3          0.6638                  0.17300  \n",
      "4          0.2364                  0.07678  \n",
      "\n",
      "[5 rows x 30 columns]\n"
     ]
    }
   ],
   "source": [
    "import pandas as pd\n",
    "df= pd.DataFrame(cancer_data['data'], columns=cancer_data['feature_names'])\n",
    "print(df.head())"
   ]
  },
  {
   "cell_type": "code",
   "execution_count": 119,
   "metadata": {},
   "outputs": [
    {
     "data": {
      "text/plain": [
       "array([0, 0, 0, 0, 0, 0, 0, 0, 0, 0, 0, 0, 0, 0, 0, 0, 0, 0, 0, 1, 1, 1,\n",
       "       0, 0, 0, 0, 0, 0, 0, 0, 0, 0, 0, 0, 0, 0, 0, 1, 0, 0, 0, 0, 0, 0,\n",
       "       0, 0, 1, 0, 1, 1, 1, 1, 1, 0, 0, 1, 0, 0, 1, 1, 1, 1, 0, 1, 0, 0,\n",
       "       1, 1, 1, 1, 0, 1, 0, 0, 1, 0, 1, 0, 0, 1, 1, 1, 0, 0, 1, 0, 0, 0,\n",
       "       1, 1, 1, 0, 1, 1, 0, 0, 1, 1, 1, 0, 0, 1, 1, 1, 1, 0, 1, 1, 0, 1,\n",
       "       1, 1, 1, 1, 1, 1, 1, 0, 0, 0, 1, 0, 0, 1, 1, 1, 0, 0, 1, 0, 1, 0,\n",
       "       0, 1, 0, 0, 1, 1, 0, 1, 1, 0, 1, 1, 1, 1, 0, 1, 1, 1, 1, 1, 1, 1,\n",
       "       1, 1, 0, 1, 1, 1, 1, 0, 0, 1, 0, 1, 1, 0, 0, 1, 1, 0, 0, 1, 1, 1,\n",
       "       1, 0, 1, 1, 0, 0, 0, 1, 0, 1, 0, 1, 1, 1, 0, 1, 1, 0, 0, 1, 0, 0,\n",
       "       0, 0, 1, 0, 0, 0, 1, 0, 1, 0, 1, 1, 0, 1, 0, 0, 0, 0, 1, 1, 0, 0,\n",
       "       1, 1, 1, 0, 1, 1, 1, 1, 1, 0, 0, 1, 1, 0, 1, 1, 0, 0, 1, 0, 1, 1,\n",
       "       1, 1, 0, 1, 1, 1, 1, 1, 0, 1, 0, 0, 0, 0, 0, 0, 0, 0, 0, 0, 0, 0,\n",
       "       0, 0, 1, 1, 1, 1, 1, 1, 0, 1, 0, 1, 1, 0, 1, 1, 0, 1, 0, 0, 1, 1,\n",
       "       1, 1, 1, 1, 1, 1, 1, 1, 1, 1, 1, 0, 1, 1, 0, 1, 0, 1, 1, 1, 1, 1,\n",
       "       1, 1, 1, 1, 1, 1, 1, 1, 1, 0, 1, 1, 1, 0, 1, 0, 1, 1, 1, 1, 0, 0,\n",
       "       0, 1, 1, 1, 1, 0, 1, 0, 1, 0, 1, 1, 1, 0, 1, 1, 1, 1, 1, 1, 1, 0,\n",
       "       0, 0, 1, 1, 1, 1, 1, 1, 1, 1, 1, 1, 1, 0, 0, 1, 0, 0, 0, 1, 0, 0,\n",
       "       1, 1, 1, 1, 1, 0, 1, 1, 1, 1, 1, 0, 1, 1, 1, 0, 1, 1, 0, 0, 1, 1,\n",
       "       1, 1, 1, 1, 0, 1, 1, 1, 1, 1, 1, 1, 0, 1, 1, 1, 1, 1, 0, 1, 1, 0,\n",
       "       1, 1, 1, 1, 1, 1, 1, 1, 1, 1, 1, 1, 0, 1, 0, 0, 1, 0, 1, 1, 1, 1,\n",
       "       1, 0, 1, 1, 0, 1, 0, 1, 1, 0, 1, 0, 1, 1, 1, 1, 1, 1, 1, 1, 0, 0,\n",
       "       1, 1, 1, 1, 1, 1, 0, 1, 1, 1, 1, 1, 1, 1, 1, 1, 1, 0, 1, 1, 1, 1,\n",
       "       1, 1, 1, 0, 1, 0, 1, 1, 0, 1, 1, 1, 1, 1, 0, 0, 1, 0, 1, 0, 1, 1,\n",
       "       1, 1, 1, 0, 1, 1, 0, 1, 0, 1, 0, 0, 1, 1, 1, 0, 1, 1, 1, 1, 1, 1,\n",
       "       1, 1, 1, 1, 1, 0, 1, 0, 0, 1, 1, 1, 1, 1, 1, 1, 1, 1, 1, 1, 1, 1,\n",
       "       1, 1, 1, 1, 1, 1, 1, 1, 1, 1, 1, 1, 0, 0, 0, 0, 0, 0, 1])"
      ]
     },
     "execution_count": 119,
     "metadata": {},
     "output_type": "execute_result"
    }
   ],
   "source": [
    "cancer_data['target']"
   ]
  },
  {
   "cell_type": "code",
   "execution_count": 120,
   "metadata": {},
   "outputs": [
    {
     "data": {
      "text/plain": [
       "(569,)"
      ]
     },
     "execution_count": 120,
     "metadata": {},
     "output_type": "execute_result"
    }
   ],
   "source": [
    "cancer_data['target'].shape"
   ]
  },
  {
   "cell_type": "code",
   "execution_count": 121,
   "metadata": {},
   "outputs": [
    {
     "data": {
      "text/plain": [
       "array(['malignant', 'benign'], dtype='<U9')"
      ]
     },
     "execution_count": 121,
     "metadata": {},
     "output_type": "execute_result"
    }
   ],
   "source": [
    "cancer_data['target_names']"
   ]
  },
  {
   "cell_type": "code",
   "execution_count": 122,
   "metadata": {},
   "outputs": [
    {
     "data": {
      "text/html": [
       "<div>\n",
       "<style scoped>\n",
       "    .dataframe tbody tr th:only-of-type {\n",
       "        vertical-align: middle;\n",
       "    }\n",
       "\n",
       "    .dataframe tbody tr th {\n",
       "        vertical-align: top;\n",
       "    }\n",
       "\n",
       "    .dataframe thead th {\n",
       "        text-align: right;\n",
       "    }\n",
       "</style>\n",
       "<table border=\"1\" class=\"dataframe\">\n",
       "  <thead>\n",
       "    <tr style=\"text-align: right;\">\n",
       "      <th></th>\n",
       "      <th>mean radius</th>\n",
       "      <th>mean texture</th>\n",
       "      <th>mean perimeter</th>\n",
       "      <th>...</th>\n",
       "      <th>worst symmetry</th>\n",
       "      <th>worst fractal dimension</th>\n",
       "      <th>target</th>\n",
       "    </tr>\n",
       "  </thead>\n",
       "  <tbody>\n",
       "    <tr>\n",
       "      <th>0</th>\n",
       "      <td>17.99</td>\n",
       "      <td>10.38</td>\n",
       "      <td>122.80</td>\n",
       "      <td>...</td>\n",
       "      <td>0.4601</td>\n",
       "      <td>0.11890</td>\n",
       "      <td>0</td>\n",
       "    </tr>\n",
       "    <tr>\n",
       "      <th>1</th>\n",
       "      <td>20.57</td>\n",
       "      <td>17.77</td>\n",
       "      <td>132.90</td>\n",
       "      <td>...</td>\n",
       "      <td>0.2750</td>\n",
       "      <td>0.08902</td>\n",
       "      <td>0</td>\n",
       "    </tr>\n",
       "    <tr>\n",
       "      <th>2</th>\n",
       "      <td>19.69</td>\n",
       "      <td>21.25</td>\n",
       "      <td>130.00</td>\n",
       "      <td>...</td>\n",
       "      <td>0.3613</td>\n",
       "      <td>0.08758</td>\n",
       "      <td>0</td>\n",
       "    </tr>\n",
       "    <tr>\n",
       "      <th>3</th>\n",
       "      <td>11.42</td>\n",
       "      <td>20.38</td>\n",
       "      <td>77.58</td>\n",
       "      <td>...</td>\n",
       "      <td>0.6638</td>\n",
       "      <td>0.17300</td>\n",
       "      <td>0</td>\n",
       "    </tr>\n",
       "    <tr>\n",
       "      <th>4</th>\n",
       "      <td>20.29</td>\n",
       "      <td>14.34</td>\n",
       "      <td>135.10</td>\n",
       "      <td>...</td>\n",
       "      <td>0.2364</td>\n",
       "      <td>0.07678</td>\n",
       "      <td>0</td>\n",
       "    </tr>\n",
       "  </tbody>\n",
       "</table>\n",
       "<p>5 rows × 31 columns</p>\n",
       "</div>"
      ],
      "text/plain": [
       "   mean radius  mean texture  mean perimeter  ...  worst symmetry  \\\n",
       "0        17.99         10.38          122.80  ...          0.4601   \n",
       "1        20.57         17.77          132.90  ...          0.2750   \n",
       "2        19.69         21.25          130.00  ...          0.3613   \n",
       "3        11.42         20.38           77.58  ...          0.6638   \n",
       "4        20.29         14.34          135.10  ...          0.2364   \n",
       "\n",
       "   worst fractal dimension  target  \n",
       "0                  0.11890       0  \n",
       "1                  0.08902       0  \n",
       "2                  0.08758       0  \n",
       "3                  0.17300       0  \n",
       "4                  0.07678       0  \n",
       "\n",
       "[5 rows x 31 columns]"
      ]
     },
     "execution_count": 122,
     "metadata": {},
     "output_type": "execute_result"
    }
   ],
   "source": [
    "df['target'] = cancer_data['target']\n",
    "df.head()"
   ]
  },
  {
   "cell_type": "code",
   "execution_count": 123,
   "metadata": {},
   "outputs": [],
   "source": [
    "x = df[cancer_data.feature_names].values\n",
    "y = df['target'].values"
   ]
  },
  {
   "cell_type": "code",
   "execution_count": 124,
   "metadata": {},
   "outputs": [
    {
     "data": {
      "text/plain": [
       "LogisticRegression(solver='liblinear')"
      ]
     },
     "execution_count": 124,
     "metadata": {},
     "output_type": "execute_result"
    }
   ],
   "source": [
    "from sklearn.linear_model import LogisticRegression\n",
    "model = LogisticRegression(solver='liblinear')\n",
    "model.fit(x,y)"
   ]
  },
  {
   "cell_type": "code",
   "execution_count": 125,
   "metadata": {},
   "outputs": [
    {
     "name": "stdout",
     "output_type": "stream",
     "text": [
      "prediction for datapoint 0: [0]\n"
     ]
    }
   ],
   "source": [
    "print(\"prediction for datapoint 0:\", model.predict([x[0]]))"
   ]
  },
  {
   "cell_type": "code",
   "execution_count": 126,
   "metadata": {},
   "outputs": [
    {
     "name": "stdout",
     "output_type": "stream",
     "text": [
      "0.9595782073813708\n"
     ]
    }
   ],
   "source": [
    "print(model.score(x,y))"
   ]
  },
  {
   "cell_type": "markdown",
   "metadata": {},
   "source": [
    "# Accuracy, Precision, Recall & F1 Score in Sklearn"
   ]
  },
  {
   "cell_type": "code",
   "execution_count": 127,
   "metadata": {},
   "outputs": [],
   "source": [
    "import pandas as pd\n",
    "import numpy as np\n",
    "from sklearn.linear_model import LogisticRegression"
   ]
  },
  {
   "cell_type": "code",
   "execution_count": 128,
   "metadata": {},
   "outputs": [],
   "source": [
    "#read Titanic dataset from csv file and put in a dataframe\n",
    "df = pd.read_csv('https://sololearn.com/uploads/files/titanic.csv')\n",
    "\n",
    "#Masking(array of boolean values,either true or false)\n",
    "df['male'] = df['Sex'] == 'male'\n",
    "\n",
    "#array of features values\n",
    "X = df[['Pclass', 'male', 'Age', 'Siblings/Spouses', 'Parents/Children', 'Fare']].values\n",
    "\n",
    "#target value y \n",
    "y = df['Survived'].values\n",
    "\n",
    "#Create a LogisticRegression model and fit to our dataset\n",
    "model = LogisticRegression()\n",
    "model.fit(X, y)\n",
    "\n",
    "#Create a y_pred of our predictions\n",
    "y_pred = model.predict(X)"
   ]
  },
  {
   "cell_type": "code",
   "execution_count": 129,
   "metadata": {},
   "outputs": [],
   "source": [
    "#import metric funtions\n",
    "from sklearn.metrics import accuracy_score, precision_score, recall_score, f1_score"
   ]
  },
  {
   "cell_type": "code",
   "execution_count": 130,
   "metadata": {},
   "outputs": [
    {
     "name": "stdout",
     "output_type": "stream",
     "text": [
      "accuracy: 0.8049605411499436\n",
      "precision: 0.7734627831715211\n",
      "recall: 0.6988304093567251\n",
      "f1 score: 0.7342549923195083\n"
     ]
    }
   ],
   "source": [
    "print(\"accuracy:\", accuracy_score(y, y_pred))\n",
    "print(\"precision:\", precision_score(y, y_pred))\n",
    "#Recall :the percent of the positive cases that the model predicted correctly\n",
    "print(\"recall:\", recall_score(y, y_pred))\n",
    "#F1 score: an average of the precision and recall.\n",
    "print(\"f1 score:\", f1_score(y, y_pred))"
   ]
  },
  {
   "cell_type": "code",
   "execution_count": 131,
   "metadata": {},
   "outputs": [
    {
     "name": "stdout",
     "output_type": "stream",
     "text": [
      "[[475  70]\n",
      " [103 239]]\n"
     ]
    }
   ],
   "source": [
    "from sklearn.metrics import confusion_matrix\n",
    "print(confusion_matrix(y, y_pred))\n",
    "# Output:\n",
    "# [[45  70]\n",
    "#  [103 239]]"
   ]
  },
  {
   "cell_type": "markdown",
   "metadata": {},
   "source": [
    "## Training and Testing in Sklearn"
   ]
  },
  {
   "cell_type": "code",
   "execution_count": 132,
   "metadata": {},
   "outputs": [],
   "source": [
    "import pandas as pd\n",
    "from sklearn.linear_model import LogisticRegression\n",
    "from sklearn.model_selection import train_test_split"
   ]
  },
  {
   "cell_type": "code",
   "execution_count": 133,
   "metadata": {},
   "outputs": [],
   "source": [
    "df = pd.read_csv('https://sololearn.com/uploads/files/titanic.csv')\n",
    "\n",
    "#Masking(array of boolean values,either true or false)\n",
    "df['male'] = df['Sex'] == 'male'\n",
    "\n",
    "#array of features values\n",
    "X = df[['Pclass', 'male', 'Age', 'Siblings/Spouses', 'Parents/Children', 'Fare']].values\n",
    "\n",
    "#target value y \n",
    "y = df['Survived'].values\n"
   ]
  },
  {
   "cell_type": "code",
   "execution_count": 134,
   "metadata": {},
   "outputs": [],
   "source": [
    "#train_test_split function is to randomly put each datapoint\n",
    "#in either the training set or the test set\n",
    "X_train,X_test,y_train,y_test = train_test_split(X,y)"
   ]
  },
  {
   "cell_type": "code",
   "execution_count": 141,
   "metadata": {},
   "outputs": [
    {
     "name": "stdout",
     "output_type": "stream",
     "text": [
      "whole dataset: (887, 6) (887,)\n",
      "training set: (665, 6) (665,)\n",
      "test set: (222, 6) (222,)\n"
     ]
    }
   ],
   "source": [
    "print('whole dataset:', X.shape, y.shape)\n",
    "print('training set:', X_train.shape, y_train.shape)\n",
    "print('test set:', X_test.shape, y_test.shape)"
   ]
  },
  {
   "cell_type": "markdown",
   "metadata": {},
   "source": [
    "## Building a Scikit-learn Model Using Training Set"
   ]
  },
  {
   "cell_type": "code",
   "execution_count": null,
   "metadata": {},
   "outputs": [
    {
     "name": "stdout",
     "output_type": "stream",
     "text": [
      "0.7702702702702703\n"
     ]
    }
   ],
   "source": [
    "#build model using training set\n",
    "model = LogisticRegression()\n",
    "model.fit(X_train,y_train)\n",
    "print(model.score(X_test, y_test))"
   ]
  },
  {
   "cell_type": "code",
   "execution_count": null,
   "metadata": {},
   "outputs": [
    {
     "name": "stdout",
     "output_type": "stream",
     "text": [
      "X_train [[3, 3], [1, 1], [4, 4]]\n",
      "X_test [[2, 2]]\n"
     ]
    }
   ],
   "source": [
    "from sklearn.model_selection import train_test_split\n",
    "X = [[1, 1], [2 , 2], [3, 3], [4, 4]]\n",
    "y = [0, 0, 1, 1]\n",
    "# using random_state will split the same number of data\n",
    "X_train,X_test,y_train,y_test = train_test_split(X,y, random_state=27)\n",
    "print('X_train', X_train)\n",
    "print('X_test', X_test)"
   ]
  },
  {
   "cell_type": "markdown",
   "metadata": {},
   "source": [
    "## Sensitivity & Specificity in Scikit-learn"
   ]
  },
  {
   "cell_type": "code",
   "execution_count": 7,
   "metadata": {},
   "outputs": [],
   "source": [
    "import pandas as pd\n",
    "import numpy as np\n",
    "from sklearn.linear_model import LogisticRegression\n",
    "from sklearn.model_selection import train_test_split\n",
    "from sklearn.metrics import recall_score\n",
    "from sklearn.metrics import precision_score\n",
    "from sklearn.metrics import precision_recall_fscore_support"
   ]
  },
  {
   "cell_type": "code",
   "execution_count": 2,
   "metadata": {},
   "outputs": [
    {
     "name": "stdout",
     "output_type": "stream",
     "text": [
      "sensitivity: 0.6829268292682927\n",
      "specificity: 0.9214285714285714\n"
     ]
    }
   ],
   "source": [
    "sensitivity_score = recall_score\n",
    "def specificity_score(y_true, y_pred):\n",
    "    p, r, f, s = precision_recall_fscore_support(y_true, y_pred)\n",
    "    return r[0]\n",
    "\n",
    "#read Titanic dataset from csv file and put in a dataframe\n",
    "df = pd.read_csv('https://sololearn.com/uploads/files/titanic.csv')\n",
    "\n",
    "#Masking(array of boolean values,either true or false)\n",
    "df['male'] = df['Sex'] == 'male'\n",
    "\n",
    "#array of features values\n",
    "X = df[['Pclass', 'male', 'Age', 'Siblings/Spouses', 'Parents/Children', 'Fare']].values\n",
    "\n",
    "#target value y \n",
    "y = df['Survived'].values\n",
    "\n",
    "#train_test_split function is to randomly put each datapoint\n",
    "#in either the training set or the test set\n",
    "X_train,X_test,y_train,y_test = train_test_split(X,y, random_state=5)\n",
    "\n",
    "#build model using training set\n",
    "model = LogisticRegression()\n",
    "\n",
    "#evaluate the model\n",
    "model.fit(X_train,y_train)\n",
    "\n",
    "#creating a array that has predicted y values\n",
    "y_pred = model.predict(X_test)\n",
    "\n",
    "print(\"sensitivity:\", sensitivity_score(y_test, y_pred))\n",
    "print(\"specificity:\", specificity_score(y_test, y_pred))"
   ]
  },
  {
   "cell_type": "markdown",
   "metadata": {},
   "source": [
    "# Adjusting the Logistic Regression Threshold in Sklearn"
   ]
  },
  {
   "cell_type": "markdown",
   "metadata": {},
   "source": [
    "## choosing a diff threshold besides 0.5"
   ]
  },
  {
   "cell_type": "code",
   "execution_count": 3,
   "metadata": {},
   "outputs": [
    {
     "data": {
      "text/plain": [
       "array([[0.46054651, 0.53945349],\n",
       "       [0.88810004, 0.11189996],\n",
       "       [0.13520595, 0.86479405],\n",
       "       [0.62497138, 0.37502862],\n",
       "       [0.73722964, 0.26277036],\n",
       "       [0.85687059, 0.14312941],\n",
       "       [0.84133142, 0.15866858],\n",
       "       [0.10657184, 0.89342816],\n",
       "       [0.1260976 , 0.8739024 ],\n",
       "       [0.42023759, 0.57976241],\n",
       "       [0.92436653, 0.07563347],\n",
       "       [0.83523916, 0.16476084],\n",
       "       [0.13698994, 0.86301006],\n",
       "       [0.90217307, 0.09782693],\n",
       "       [0.60512309, 0.39487691],\n",
       "       [0.79564749, 0.20435251],\n",
       "       [0.17515507, 0.82484493],\n",
       "       [0.46654882, 0.53345118],\n",
       "       [0.24196013, 0.75803987],\n",
       "       [0.89247708, 0.10752292],\n",
       "       [0.284676  , 0.715324  ],\n",
       "       [0.87814619, 0.12185381],\n",
       "       [0.86200177, 0.13799823],\n",
       "       [0.87075274, 0.12924726],\n",
       "       [0.86658854, 0.13341146],\n",
       "       [0.22589824, 0.77410176],\n",
       "       [0.85172042, 0.14827958],\n",
       "       [0.85167655, 0.14832345],\n",
       "       [0.56230342, 0.43769658],\n",
       "       [0.64036583, 0.35963417],\n",
       "       [0.89256704, 0.10743296],\n",
       "       [0.04988472, 0.95011528],\n",
       "       [0.51041577, 0.48958423],\n",
       "       [0.87120552, 0.12879448],\n",
       "       [0.94761335, 0.05238665],\n",
       "       [0.91062426, 0.08937574],\n",
       "       [0.03650844, 0.96349156],\n",
       "       [0.59265923, 0.40734077],\n",
       "       [0.62739715, 0.37260285],\n",
       "       [0.95937488, 0.04062512],\n",
       "       [0.22725309, 0.77274691],\n",
       "       [0.90920918, 0.09079082],\n",
       "       [0.3526453 , 0.6473547 ],\n",
       "       [0.54176818, 0.45823182],\n",
       "       [0.44435363, 0.55564637],\n",
       "       [0.82171299, 0.17828701],\n",
       "       [0.74247722, 0.25752278],\n",
       "       [0.89824854, 0.10175146],\n",
       "       [0.86182954, 0.13817046],\n",
       "       [0.26830514, 0.73169486],\n",
       "       [0.78056544, 0.21943456],\n",
       "       [0.84654302, 0.15345698],\n",
       "       [0.6998287 , 0.3001713 ],\n",
       "       [0.32695807, 0.67304193],\n",
       "       [0.85116685, 0.14883315],\n",
       "       [0.72243802, 0.27756198],\n",
       "       [0.07465492, 0.92534508],\n",
       "       [0.04492801, 0.95507199],\n",
       "       [0.87393719, 0.12606281],\n",
       "       [0.33717682, 0.66282318],\n",
       "       [0.85178183, 0.14821817],\n",
       "       [0.14217312, 0.85782688],\n",
       "       [0.84102671, 0.15897329],\n",
       "       [0.92328978, 0.07671022],\n",
       "       [0.85160812, 0.14839188],\n",
       "       [0.90966476, 0.09033524],\n",
       "       [0.96516899, 0.03483101],\n",
       "       [0.68062885, 0.31937115],\n",
       "       [0.37301709, 0.62698291],\n",
       "       [0.49744144, 0.50255856],\n",
       "       [0.69670171, 0.30329829],\n",
       "       [0.87148845, 0.12851155],\n",
       "       [0.07718485, 0.92281515],\n",
       "       [0.6017015 , 0.3982985 ],\n",
       "       [0.61536683, 0.38463317],\n",
       "       [0.04765444, 0.95234556],\n",
       "       [0.05302544, 0.94697456],\n",
       "       [0.95973997, 0.04026003],\n",
       "       [0.84931241, 0.15068759],\n",
       "       [0.72370258, 0.27629742],\n",
       "       [0.99575382, 0.00424618],\n",
       "       [0.88849983, 0.11150017],\n",
       "       [0.28460482, 0.71539518],\n",
       "       [0.85758228, 0.14241772],\n",
       "       [0.28483401, 0.71516599],\n",
       "       [0.90709055, 0.09290945],\n",
       "       [0.51997105, 0.48002895],\n",
       "       [0.91875679, 0.08124321],\n",
       "       [0.60923515, 0.39076485],\n",
       "       [0.89636128, 0.10363872],\n",
       "       [0.94247855, 0.05752145],\n",
       "       [0.31752833, 0.68247167],\n",
       "       [0.73816468, 0.26183532],\n",
       "       [0.95340162, 0.04659838],\n",
       "       [0.37742281, 0.62257719],\n",
       "       [0.8355878 , 0.1644122 ],\n",
       "       [0.93778967, 0.06221033],\n",
       "       [0.69670171, 0.30329829],\n",
       "       [0.17416147, 0.82583853],\n",
       "       [0.80299354, 0.19700646],\n",
       "       [0.13201835, 0.86798165],\n",
       "       [0.924437  , 0.075563  ],\n",
       "       [0.91885077, 0.08114923],\n",
       "       [0.90372851, 0.09627149],\n",
       "       [0.10674313, 0.89325687],\n",
       "       [0.23086955, 0.76913045],\n",
       "       [0.86616095, 0.13383905],\n",
       "       [0.82705086, 0.17294914],\n",
       "       [0.88855372, 0.11144628],\n",
       "       [0.92050557, 0.07949443],\n",
       "       [0.62238357, 0.37761643],\n",
       "       [0.10211845, 0.89788155],\n",
       "       [0.86956933, 0.13043067],\n",
       "       [0.51857668, 0.48142332],\n",
       "       [0.89507425, 0.10492575],\n",
       "       [0.84642718, 0.15357282],\n",
       "       [0.89254039, 0.10745961],\n",
       "       [0.11524085, 0.88475915],\n",
       "       [0.8668039 , 0.1331961 ],\n",
       "       [0.66905541, 0.33094459],\n",
       "       [0.29332898, 0.70667102],\n",
       "       [0.12007603, 0.87992397],\n",
       "       [0.85677685, 0.14322315],\n",
       "       [0.84114434, 0.15885566],\n",
       "       [0.49063125, 0.50936875],\n",
       "       [0.44640133, 0.55359867],\n",
       "       [0.77480166, 0.22519834],\n",
       "       [0.91062426, 0.08937574],\n",
       "       [0.74856103, 0.25143897],\n",
       "       [0.64318776, 0.35681224],\n",
       "       [0.72220967, 0.27779033],\n",
       "       [0.96090821, 0.03909179],\n",
       "       [0.82171299, 0.17828701],\n",
       "       [0.23215468, 0.76784532],\n",
       "       [0.91394145, 0.08605855],\n",
       "       [0.82642975, 0.17357025],\n",
       "       [0.95064406, 0.04935594],\n",
       "       [0.89656761, 0.10343239],\n",
       "       [0.57170922, 0.42829078],\n",
       "       [0.8861574 , 0.1138426 ],\n",
       "       [0.94355129, 0.05644871],\n",
       "       [0.59883168, 0.40116832],\n",
       "       [0.82485307, 0.17514693],\n",
       "       [0.10489915, 0.89510085],\n",
       "       [0.12055164, 0.87944836],\n",
       "       [0.87597398, 0.12402602],\n",
       "       [0.71190398, 0.28809602],\n",
       "       [0.08343316, 0.91656684],\n",
       "       [0.93670035, 0.06329965],\n",
       "       [0.82770652, 0.17229348],\n",
       "       [0.43972211, 0.56027789],\n",
       "       [0.2883817 , 0.7116183 ],\n",
       "       [0.91730356, 0.08269644],\n",
       "       [0.92597463, 0.07402537],\n",
       "       [0.92610309, 0.07389691],\n",
       "       [0.25730204, 0.74269796],\n",
       "       [0.72341679, 0.27658321],\n",
       "       [0.87823027, 0.12176973],\n",
       "       [0.9151264 , 0.0848736 ],\n",
       "       [0.9141045 , 0.0858955 ],\n",
       "       [0.05760757, 0.94239243],\n",
       "       [0.94078789, 0.05921211],\n",
       "       [0.16335032, 0.83664968],\n",
       "       [0.925245  , 0.074755  ],\n",
       "       [0.94393649, 0.05606351],\n",
       "       [0.94597971, 0.05402029],\n",
       "       [0.10242664, 0.89757336],\n",
       "       [0.62161705, 0.37838295],\n",
       "       [0.68571593, 0.31428407],\n",
       "       [0.89585817, 0.10414183],\n",
       "       [0.04083072, 0.95916928],\n",
       "       [0.18785014, 0.81214986],\n",
       "       [0.45255523, 0.54744477],\n",
       "       [0.67787683, 0.32212317],\n",
       "       [0.892111  , 0.107889  ],\n",
       "       [0.2395365 , 0.7604635 ],\n",
       "       [0.88854227, 0.11145773],\n",
       "       [0.10987872, 0.89012128],\n",
       "       [0.94019641, 0.05980359],\n",
       "       [0.93882567, 0.06117433],\n",
       "       [0.79577687, 0.20422313],\n",
       "       [0.49522487, 0.50477513],\n",
       "       [0.75867117, 0.24132883],\n",
       "       [0.90726995, 0.09273005],\n",
       "       [0.90365294, 0.09634706],\n",
       "       [0.06064463, 0.93935537],\n",
       "       [0.56528425, 0.43471575],\n",
       "       [0.82987296, 0.17012704],\n",
       "       [0.86445257, 0.13554743],\n",
       "       [0.46033941, 0.53966059],\n",
       "       [0.84642718, 0.15357282],\n",
       "       [0.33928005, 0.66071995],\n",
       "       [0.87603435, 0.12396565],\n",
       "       [0.84648287, 0.15351713],\n",
       "       [0.70686053, 0.29313947],\n",
       "       [0.85126363, 0.14873637],\n",
       "       [0.47905797, 0.52094203],\n",
       "       [0.92539645, 0.07460355],\n",
       "       [0.2395365 , 0.7604635 ],\n",
       "       [0.8964387 , 0.1035613 ],\n",
       "       [0.65157867, 0.34842133],\n",
       "       [0.53351567, 0.46648433],\n",
       "       [0.84638806, 0.15361194],\n",
       "       [0.32586015, 0.67413985],\n",
       "       [0.86966221, 0.13033779],\n",
       "       [0.67288837, 0.32711163],\n",
       "       [0.66905541, 0.33094459],\n",
       "       [0.37932477, 0.62067523],\n",
       "       [0.63392071, 0.36607929],\n",
       "       [0.95150918, 0.04849082],\n",
       "       [0.90433746, 0.09566254],\n",
       "       [0.95359143, 0.04640857],\n",
       "       [0.20277609, 0.79722391],\n",
       "       [0.03729443, 0.96270557],\n",
       "       [0.72358397, 0.27641603],\n",
       "       [0.07284682, 0.92715318],\n",
       "       [0.54861337, 0.45138663],\n",
       "       [0.88858239, 0.11141761],\n",
       "       [0.84113814, 0.15886186],\n",
       "       [0.68741857, 0.31258143],\n",
       "       [0.72019758, 0.27980242],\n",
       "       [0.88458615, 0.11541385]])"
      ]
     },
     "execution_count": 3,
     "metadata": {},
     "output_type": "execute_result"
    }
   ],
   "source": [
    "(model.predict_proba(X_test))"
   ]
  },
  {
   "cell_type": "code",
   "execution_count": 5,
   "metadata": {},
   "outputs": [
    {
     "data": {
      "text/plain": [
       "array([0.53945349, 0.11189996, 0.86479405, 0.37502862, 0.26277036,\n",
       "       0.14312941, 0.15866858, 0.89342816, 0.8739024 , 0.57976241,\n",
       "       0.07563347, 0.16476084, 0.86301006, 0.09782693, 0.39487691,\n",
       "       0.20435251, 0.82484493, 0.53345118, 0.75803987, 0.10752292,\n",
       "       0.715324  , 0.12185381, 0.13799823, 0.12924726, 0.13341146,\n",
       "       0.77410176, 0.14827958, 0.14832345, 0.43769658, 0.35963417,\n",
       "       0.10743296, 0.95011528, 0.48958423, 0.12879448, 0.05238665,\n",
       "       0.08937574, 0.96349156, 0.40734077, 0.37260285, 0.04062512,\n",
       "       0.77274691, 0.09079082, 0.6473547 , 0.45823182, 0.55564637,\n",
       "       0.17828701, 0.25752278, 0.10175146, 0.13817046, 0.73169486,\n",
       "       0.21943456, 0.15345698, 0.3001713 , 0.67304193, 0.14883315,\n",
       "       0.27756198, 0.92534508, 0.95507199, 0.12606281, 0.66282318,\n",
       "       0.14821817, 0.85782688, 0.15897329, 0.07671022, 0.14839188,\n",
       "       0.09033524, 0.03483101, 0.31937115, 0.62698291, 0.50255856,\n",
       "       0.30329829, 0.12851155, 0.92281515, 0.3982985 , 0.38463317,\n",
       "       0.95234556, 0.94697456, 0.04026003, 0.15068759, 0.27629742,\n",
       "       0.00424618, 0.11150017, 0.71539518, 0.14241772, 0.71516599,\n",
       "       0.09290945, 0.48002895, 0.08124321, 0.39076485, 0.10363872,\n",
       "       0.05752145, 0.68247167, 0.26183532, 0.04659838, 0.62257719,\n",
       "       0.1644122 , 0.06221033, 0.30329829, 0.82583853, 0.19700646,\n",
       "       0.86798165, 0.075563  , 0.08114923, 0.09627149, 0.89325687,\n",
       "       0.76913045, 0.13383905, 0.17294914, 0.11144628, 0.07949443,\n",
       "       0.37761643, 0.89788155, 0.13043067, 0.48142332, 0.10492575,\n",
       "       0.15357282, 0.10745961, 0.88475915, 0.1331961 , 0.33094459,\n",
       "       0.70667102, 0.87992397, 0.14322315, 0.15885566, 0.50936875,\n",
       "       0.55359867, 0.22519834, 0.08937574, 0.25143897, 0.35681224,\n",
       "       0.27779033, 0.03909179, 0.17828701, 0.76784532, 0.08605855,\n",
       "       0.17357025, 0.04935594, 0.10343239, 0.42829078, 0.1138426 ,\n",
       "       0.05644871, 0.40116832, 0.17514693, 0.89510085, 0.87944836,\n",
       "       0.12402602, 0.28809602, 0.91656684, 0.06329965, 0.17229348,\n",
       "       0.56027789, 0.7116183 , 0.08269644, 0.07402537, 0.07389691,\n",
       "       0.74269796, 0.27658321, 0.12176973, 0.0848736 , 0.0858955 ,\n",
       "       0.94239243, 0.05921211, 0.83664968, 0.074755  , 0.05606351,\n",
       "       0.05402029, 0.89757336, 0.37838295, 0.31428407, 0.10414183,\n",
       "       0.95916928, 0.81214986, 0.54744477, 0.32212317, 0.107889  ,\n",
       "       0.7604635 , 0.11145773, 0.89012128, 0.05980359, 0.06117433,\n",
       "       0.20422313, 0.50477513, 0.24132883, 0.09273005, 0.09634706,\n",
       "       0.93935537, 0.43471575, 0.17012704, 0.13554743, 0.53966059,\n",
       "       0.15357282, 0.66071995, 0.12396565, 0.15351713, 0.29313947,\n",
       "       0.14873637, 0.52094203, 0.07460355, 0.7604635 , 0.1035613 ,\n",
       "       0.34842133, 0.46648433, 0.15361194, 0.67413985, 0.13033779,\n",
       "       0.32711163, 0.33094459, 0.62067523, 0.36607929, 0.04849082,\n",
       "       0.09566254, 0.04640857, 0.79722391, 0.96270557, 0.27641603,\n",
       "       0.92715318, 0.45138663, 0.11141761, 0.15886186, 0.31258143,\n",
       "       0.27980242, 0.11541385])"
      ]
     },
     "execution_count": 5,
     "metadata": {},
     "output_type": "execute_result"
    }
   ],
   "source": [
    "#first value is the probability that the datapoint is 0 (didnt survive)\n",
    "#2nd value is the probability that the datapoint is 1 (survived)\n",
    "model.predict_proba(X_test)[:, 1]"
   ]
  },
  {
   "cell_type": "code",
   "execution_count": 6,
   "metadata": {},
   "outputs": [],
   "source": [
    "#compare the probability values with our threshold\n",
    "y_pred = model.predict_proba(X_test)[:,1] > 0.75"
   ]
  },
  {
   "cell_type": "code",
   "execution_count": 9,
   "metadata": {},
   "outputs": [
    {
     "name": "stdout",
     "output_type": "stream",
     "text": [
      "predict proba:\n",
      "[[0.46054651 0.53945349]\n",
      " [0.88810004 0.11189996]\n",
      " [0.13520595 0.86479405]\n",
      " [0.62497138 0.37502862]\n",
      " [0.73722964 0.26277036]\n",
      " [0.85687059 0.14312941]\n",
      " [0.84133142 0.15866858]\n",
      " [0.10657184 0.89342816]\n",
      " [0.1260976  0.8739024 ]\n",
      " [0.42023759 0.57976241]\n",
      " [0.92436653 0.07563347]\n",
      " [0.83523916 0.16476084]\n",
      " [0.13698994 0.86301006]\n",
      " [0.90217307 0.09782693]\n",
      " [0.60512309 0.39487691]\n",
      " [0.79564749 0.20435251]\n",
      " [0.17515507 0.82484493]\n",
      " [0.46654882 0.53345118]\n",
      " [0.24196013 0.75803987]\n",
      " [0.89247708 0.10752292]\n",
      " [0.284676   0.715324  ]\n",
      " [0.87814619 0.12185381]\n",
      " [0.86200177 0.13799823]\n",
      " [0.87075274 0.12924726]\n",
      " [0.86658854 0.13341146]\n",
      " [0.22589824 0.77410176]\n",
      " [0.85172042 0.14827958]\n",
      " [0.85167655 0.14832345]\n",
      " [0.56230342 0.43769658]\n",
      " [0.64036583 0.35963417]\n",
      " [0.89256704 0.10743296]\n",
      " [0.04988472 0.95011528]\n",
      " [0.51041577 0.48958423]\n",
      " [0.87120552 0.12879448]\n",
      " [0.94761335 0.05238665]\n",
      " [0.91062426 0.08937574]\n",
      " [0.03650844 0.96349156]\n",
      " [0.59265923 0.40734077]\n",
      " [0.62739715 0.37260285]\n",
      " [0.95937488 0.04062512]\n",
      " [0.22725309 0.77274691]\n",
      " [0.90920918 0.09079082]\n",
      " [0.3526453  0.6473547 ]\n",
      " [0.54176818 0.45823182]\n",
      " [0.44435363 0.55564637]\n",
      " [0.82171299 0.17828701]\n",
      " [0.74247722 0.25752278]\n",
      " [0.89824854 0.10175146]\n",
      " [0.86182954 0.13817046]\n",
      " [0.26830514 0.73169486]\n",
      " [0.78056544 0.21943456]\n",
      " [0.84654302 0.15345698]\n",
      " [0.6998287  0.3001713 ]\n",
      " [0.32695807 0.67304193]\n",
      " [0.85116685 0.14883315]\n",
      " [0.72243802 0.27756198]\n",
      " [0.07465492 0.92534508]\n",
      " [0.04492801 0.95507199]\n",
      " [0.87393719 0.12606281]\n",
      " [0.33717682 0.66282318]\n",
      " [0.85178183 0.14821817]\n",
      " [0.14217312 0.85782688]\n",
      " [0.84102671 0.15897329]\n",
      " [0.92328978 0.07671022]\n",
      " [0.85160812 0.14839188]\n",
      " [0.90966476 0.09033524]\n",
      " [0.96516899 0.03483101]\n",
      " [0.68062885 0.31937115]\n",
      " [0.37301709 0.62698291]\n",
      " [0.49744144 0.50255856]\n",
      " [0.69670171 0.30329829]\n",
      " [0.87148845 0.12851155]\n",
      " [0.07718485 0.92281515]\n",
      " [0.6017015  0.3982985 ]\n",
      " [0.61536683 0.38463317]\n",
      " [0.04765444 0.95234556]\n",
      " [0.05302544 0.94697456]\n",
      " [0.95973997 0.04026003]\n",
      " [0.84931241 0.15068759]\n",
      " [0.72370258 0.27629742]\n",
      " [0.99575382 0.00424618]\n",
      " [0.88849983 0.11150017]\n",
      " [0.28460482 0.71539518]\n",
      " [0.85758228 0.14241772]\n",
      " [0.28483401 0.71516599]\n",
      " [0.90709055 0.09290945]\n",
      " [0.51997105 0.48002895]\n",
      " [0.91875679 0.08124321]\n",
      " [0.60923515 0.39076485]\n",
      " [0.89636128 0.10363872]\n",
      " [0.94247855 0.05752145]\n",
      " [0.31752833 0.68247167]\n",
      " [0.73816468 0.26183532]\n",
      " [0.95340162 0.04659838]\n",
      " [0.37742281 0.62257719]\n",
      " [0.8355878  0.1644122 ]\n",
      " [0.93778967 0.06221033]\n",
      " [0.69670171 0.30329829]\n",
      " [0.17416147 0.82583853]\n",
      " [0.80299354 0.19700646]\n",
      " [0.13201835 0.86798165]\n",
      " [0.924437   0.075563  ]\n",
      " [0.91885077 0.08114923]\n",
      " [0.90372851 0.09627149]\n",
      " [0.10674313 0.89325687]\n",
      " [0.23086955 0.76913045]\n",
      " [0.86616095 0.13383905]\n",
      " [0.82705086 0.17294914]\n",
      " [0.88855372 0.11144628]\n",
      " [0.92050557 0.07949443]\n",
      " [0.62238357 0.37761643]\n",
      " [0.10211845 0.89788155]\n",
      " [0.86956933 0.13043067]\n",
      " [0.51857668 0.48142332]\n",
      " [0.89507425 0.10492575]\n",
      " [0.84642718 0.15357282]\n",
      " [0.89254039 0.10745961]\n",
      " [0.11524085 0.88475915]\n",
      " [0.8668039  0.1331961 ]\n",
      " [0.66905541 0.33094459]\n",
      " [0.29332898 0.70667102]\n",
      " [0.12007603 0.87992397]\n",
      " [0.85677685 0.14322315]\n",
      " [0.84114434 0.15885566]\n",
      " [0.49063125 0.50936875]\n",
      " [0.44640133 0.55359867]\n",
      " [0.77480166 0.22519834]\n",
      " [0.91062426 0.08937574]\n",
      " [0.74856103 0.25143897]\n",
      " [0.64318776 0.35681224]\n",
      " [0.72220967 0.27779033]\n",
      " [0.96090821 0.03909179]\n",
      " [0.82171299 0.17828701]\n",
      " [0.23215468 0.76784532]\n",
      " [0.91394145 0.08605855]\n",
      " [0.82642975 0.17357025]\n",
      " [0.95064406 0.04935594]\n",
      " [0.89656761 0.10343239]\n",
      " [0.57170922 0.42829078]\n",
      " [0.8861574  0.1138426 ]\n",
      " [0.94355129 0.05644871]\n",
      " [0.59883168 0.40116832]\n",
      " [0.82485307 0.17514693]\n",
      " [0.10489915 0.89510085]\n",
      " [0.12055164 0.87944836]\n",
      " [0.87597398 0.12402602]\n",
      " [0.71190398 0.28809602]\n",
      " [0.08343316 0.91656684]\n",
      " [0.93670035 0.06329965]\n",
      " [0.82770652 0.17229348]\n",
      " [0.43972211 0.56027789]\n",
      " [0.2883817  0.7116183 ]\n",
      " [0.91730356 0.08269644]\n",
      " [0.92597463 0.07402537]\n",
      " [0.92610309 0.07389691]\n",
      " [0.25730204 0.74269796]\n",
      " [0.72341679 0.27658321]\n",
      " [0.87823027 0.12176973]\n",
      " [0.9151264  0.0848736 ]\n",
      " [0.9141045  0.0858955 ]\n",
      " [0.05760757 0.94239243]\n",
      " [0.94078789 0.05921211]\n",
      " [0.16335032 0.83664968]\n",
      " [0.925245   0.074755  ]\n",
      " [0.94393649 0.05606351]\n",
      " [0.94597971 0.05402029]\n",
      " [0.10242664 0.89757336]\n",
      " [0.62161705 0.37838295]\n",
      " [0.68571593 0.31428407]\n",
      " [0.89585817 0.10414183]\n",
      " [0.04083072 0.95916928]\n",
      " [0.18785014 0.81214986]\n",
      " [0.45255523 0.54744477]\n",
      " [0.67787683 0.32212317]\n",
      " [0.892111   0.107889  ]\n",
      " [0.2395365  0.7604635 ]\n",
      " [0.88854227 0.11145773]\n",
      " [0.10987872 0.89012128]\n",
      " [0.94019641 0.05980359]\n",
      " [0.93882567 0.06117433]\n",
      " [0.79577687 0.20422313]\n",
      " [0.49522487 0.50477513]\n",
      " [0.75867117 0.24132883]\n",
      " [0.90726995 0.09273005]\n",
      " [0.90365294 0.09634706]\n",
      " [0.06064463 0.93935537]\n",
      " [0.56528425 0.43471575]\n",
      " [0.82987296 0.17012704]\n",
      " [0.86445257 0.13554743]\n",
      " [0.46033941 0.53966059]\n",
      " [0.84642718 0.15357282]\n",
      " [0.33928005 0.66071995]\n",
      " [0.87603435 0.12396565]\n",
      " [0.84648287 0.15351713]\n",
      " [0.70686053 0.29313947]\n",
      " [0.85126363 0.14873637]\n",
      " [0.47905797 0.52094203]\n",
      " [0.92539645 0.07460355]\n",
      " [0.2395365  0.7604635 ]\n",
      " [0.8964387  0.1035613 ]\n",
      " [0.65157867 0.34842133]\n",
      " [0.53351567 0.46648433]\n",
      " [0.84638806 0.15361194]\n",
      " [0.32586015 0.67413985]\n",
      " [0.86966221 0.13033779]\n",
      " [0.67288837 0.32711163]\n",
      " [0.66905541 0.33094459]\n",
      " [0.37932477 0.62067523]\n",
      " [0.63392071 0.36607929]\n",
      " [0.95150918 0.04849082]\n",
      " [0.90433746 0.09566254]\n",
      " [0.95359143 0.04640857]\n",
      " [0.20277609 0.79722391]\n",
      " [0.03729443 0.96270557]\n",
      " [0.72358397 0.27641603]\n",
      " [0.07284682 0.92715318]\n",
      " [0.54861337 0.45138663]\n",
      " [0.88858239 0.11141761]\n",
      " [0.84113814 0.15886186]\n",
      " [0.68741857 0.31258143]\n",
      " [0.72019758 0.27980242]\n",
      " [0.88458615 0.11541385]]\n",
      "precision: 0.9230769230769231\n",
      "recall: 0.43902439024390244\n"
     ]
    }
   ],
   "source": [
    "#read Titanic dataset from csv file and put in a dataframe\n",
    "df = pd.read_csv('https://sololearn.com/uploads/files/titanic.csv')\n",
    "\n",
    "#Masking(array of boolean values,either true or false)\n",
    "df['male'] = df['Sex'] == 'male'\n",
    "\n",
    "#array of features values\n",
    "X = df[['Pclass', 'male', 'Age', 'Siblings/Spouses', 'Parents/Children', 'Fare']].values\n",
    "\n",
    "#target value y \n",
    "y = df['Survived'].values\n",
    "\n",
    "#train_test_split function is to randomly put each datapoint\n",
    "#in either the training set or the test set\n",
    "X_train,X_test,y_train,y_test = train_test_split(X,y, random_state=5)\n",
    "\n",
    "#build model using training set\n",
    "model = LogisticRegression()\n",
    "model.fit(X_train,y_train)\n",
    "print(\"predict proba:\")\n",
    "print(model.predict_proba(X_test))\n",
    "\n",
    "y_pred = model.predict_proba(X_test)[:,1] > 0.75\n",
    "\n",
    "print(\"precision:\", precision_score(y_test, y_pred))\n",
    "print(\"recall:\", recall_score(y_test, y_pred))"
   ]
  },
  {
   "cell_type": "code",
   "execution_count": 10,
   "metadata": {},
   "outputs": [
    {
     "data": {
      "image/png": "[encoded data removed]",
      "text/plain": [
       "<Figure size 432x288 with 1 Axes>"
      ]
     },
     "metadata": {
      "needs_background": "light"
     },
     "output_type": "display_data"
    }
   ],
   "source": [
    "import pandas as pd\n",
    "import numpy as np\n",
    "import matplotlib.pyplot as plt\n",
    "from sklearn.linear_model import LogisticRegression\n",
    "from sklearn.model_selection import train_test_split\n",
    "from sklearn.metrics import recall_score\n",
    "from sklearn.metrics import precision_score\n",
    "from sklearn.metrics import roc_curve\n",
    "from sklearn.metrics import precision_recall_fscore_support\n",
    "\n",
    "#read Titanic dataset from csv file and put in a dataframe\n",
    "df = pd.read_csv('https://sololearn.com/uploads/files/titanic.csv')\n",
    "\n",
    "#Masking(array of boolean values,either true or false)\n",
    "df['male'] = df['Sex'] == 'male'\n",
    "\n",
    "#array of features values\n",
    "X = df[['Pclass', 'male', 'Age', 'Siblings/Spouses', 'Parents/Children', 'Fare']].values\n",
    "\n",
    "#target value y \n",
    "y = df['Survived'].values\n",
    "\n",
    "#train_test_split function is to randomly put each datapoint\n",
    "#in either the training set or the test set\n",
    "X_train,X_test,y_train,y_test = train_test_split(X,y, random_state=5)\n",
    "\n",
    "#build model using training set\n",
    "model = LogisticRegression()\n",
    "model.fit(X_train,y_train)\n",
    "\n",
    "y_pred_proba = model.predict_proba(X_test)\n",
    "fpr, tpr, threshold = roc_curve(y_test, y_pred_proba[:,1])\n",
    "\n",
    "#False positive rate as x-axis\n",
    "# True positive rate as y-axis\n",
    "plt.plot(fpr, tpr)\n",
    "\n",
    "#plotting the cordinates as [x1, x2], [y1, y2]\n",
    "plt.plot([0, 1], [0, 1], linestyle='--')\n",
    "\n",
    "#setting the min & max\n",
    "plt.xlim([0.0, 1.0])\n",
    "plt.ylim([0.0, 1.0])\n",
    "\n",
    "#labeling axis\n",
    "plt.xlabel('1 - specificity')\n",
    "plt.ylabel('sensitivity')\n",
    "plt.show()"
   ]
  },
  {
   "cell_type": "markdown",
   "metadata": {},
   "source": [
    "## ROC Curves( Receiver Operating Characteristic) is a graph showing the performance of the classification model at all classification thresholds. 2 parameters are neeeded: True Positive Rate and False Positive Rate"
   ]
  },
  {
   "cell_type": "markdown",
   "metadata": {},
   "source": [
    "#### [IMPORTANT]\n",
    "The closer the curve gets to the upper left corner, the better the performance. The line should never fall below the diagonal line as that would mean it performs worse than a random model."
   ]
  },
  {
   "cell_type": "markdown",
   "metadata": {},
   "source": [
    "#### When we’re ready to finalize our model, we have to choose a single threshold that we’ll use to make our predictions. The ROC curve is a way of helping us choose the ideal threshold for our problem."
   ]
  },
  {
   "cell_type": "markdown",
   "metadata": {},
   "source": [
    "# Area Under  Curve"
   ]
  },
  {
   "cell_type": "code",
   "execution_count": 11,
   "metadata": {},
   "outputs": [
    {
     "data": {
      "text/plain": [
       "0.8572299651567944"
      ]
     },
     "execution_count": 11,
     "metadata": {},
     "output_type": "execute_result"
    }
   ],
   "source": [
    "from sklearn.metrics import roc_auc_score\n",
    "(roc_auc_score(y_test, y_pred_proba[:,1]))"
   ]
  },
  {
   "cell_type": "code",
   "execution_count": 15,
   "metadata": {},
   "outputs": [
    {
     "name": "stdout",
     "output_type": "stream",
     "text": [
      "model 1 AUC score: 0.8572299651567944\n",
      "model 2 AUC score: 0.8390679442508711\n"
     ]
    }
   ],
   "source": [
    "import pandas as pd\n",
    "from sklearn.linear_model import LogisticRegression\n",
    "from sklearn.model_selection import train_test_split\n",
    "from sklearn.metrics import roc_auc_score\n",
    "\n",
    "#read Titanic dataset from csv file and put in a dataframe\n",
    "df = pd.read_csv('https://sololearn.com/uploads/files/titanic.csv')\n",
    "\n",
    "#Masking(array of boolean values,either true or false)\n",
    "df['male'] = df['Sex'] == 'male'\n",
    "\n",
    "#array of features values\n",
    "X = df[['Pclass', 'male', 'Age', 'Siblings/Spouses', 'Parents/Children', 'Fare']].values\n",
    "\n",
    "#target value y \n",
    "y = df['Survived'].values\n",
    "\n",
    "#train_test_split function is to randomly put each datapoint\n",
    "#in either the training set or the test set\n",
    "X_train,X_test,y_train,y_test = train_test_split(X,y, random_state=5)\n",
    "\n",
    "#build model 1 using training set\n",
    "model_1 = LogisticRegression()\n",
    "model_1.fit(X_train,y_train)\n",
    "\n",
    "#creating a array that has predicted probability y values\n",
    "y_pred_proba_1 = model_1.predict_proba(X_test)\n",
    "print(\"model 1 AUC score:\", roc_auc_score(y_test, y_pred_proba_1[:,1]))\n",
    "\n",
    "#build model 2 using training set\n",
    "model_2 = LogisticRegression()\n",
    "model_2.fit(X_train[:, 0:2], y_train)\n",
    "\n",
    "#creating a array that has predicted probability y values using Pclass and male features\n",
    "y_pred_proba_2 = model_2.predict_proba(X_test[:, 0:2])\n",
    "\n",
    "print(\"model 2 AUC score:\", roc_auc_score(y_test, y_pred_proba_2[:,1]))\n"
   ]
  },
  {
   "cell_type": "code",
   "execution_count": null,
   "metadata": {},
   "outputs": [],
   "source": []
  }
 ],
 "metadata": {
  "interpreter": {
   "hash": "bb951207396e5e7677ef003425833e3550b65378ab80770ff03c0de8389454ef"
  },
  "kernelspec": {
   "display_name": "Python 3.7.9 ('venv': venv)",
   "language": "python",
   "name": "python3"
  },
  "language_info": {
   "codemirror_mode": {
    "name": "ipython",
    "version": 3
   },
   "file_extension": ".py",
   "mimetype": "text/x-python",
   "name": "python",
   "nbconvert_exporter": "python",
   "pygments_lexer": "ipython3",
   "version": "3.7.9"
  },
  "orig_nbformat": 4
 },
 "nbformat": 4,
 "nbformat_minor": 2
}
